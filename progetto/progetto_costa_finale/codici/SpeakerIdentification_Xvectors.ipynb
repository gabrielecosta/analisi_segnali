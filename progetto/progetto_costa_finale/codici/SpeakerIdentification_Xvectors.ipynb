{
  "cells": [
    {
      "cell_type": "markdown",
      "metadata": {},
      "source": [
        "# Caricamento dataset"
      ]
    },
    {
      "cell_type": "code",
      "execution_count": 33,
      "metadata": {
        "id": "cv2Z26inE3s-"
      },
      "outputs": [],
      "source": [
        "import torchaudio\n",
        "\n",
        "train = torchaudio.datasets.LIBRISPEECH(root=\"./\", url=\"train-clean-100\", download=True)\n",
        "val = torchaudio.datasets.LIBRISPEECH(root=\"./\", url=\"dev-clean\", download=True)\n",
        "test = torchaudio.datasets.LIBRISPEECH(root=\"./\", url=\"test-clean\", download=True)"
      ]
    },
    {
      "cell_type": "code",
      "execution_count": 34,
      "metadata": {
        "id": "hHJLuXMuE9nz"
      },
      "outputs": [],
      "source": [
        "import os\n",
        "\n",
        "def get_speaker_labels(root_dir):\n",
        "    speaker_files = []\n",
        "    labels = []\n",
        "    count_speakers = 0\n",
        "\n",
        "    for speaker_id in os.listdir(root_dir):  # Each folder is a speaker\n",
        "        speaker_path = os.path.join(root_dir, speaker_id)\n",
        "        count_speakers += 1\n",
        "        if os.path.isdir(speaker_path):\n",
        "            for chapter in os.listdir(speaker_path):\n",
        "                chapter_path = os.path.join(speaker_path, chapter)\n",
        "\n",
        "                if os.path.isdir(chapter_path):\n",
        "                    for file in os.listdir(chapter_path):\n",
        "                        if file.endswith(\".flac\"):  # LibriSpeech uses FLAC format\n",
        "                            file_path = os.path.join(chapter_path, file)\n",
        "                            speaker_files.append(file_path)\n",
        "                            labels.append(speaker_id)  # Speaker label\n",
        "    print(f\"Number of speakers: {count_speakers}\")\n",
        "    return speaker_files, labels"
      ]
    },
    {
      "cell_type": "code",
      "execution_count": 35,
      "metadata": {
        "colab": {
          "base_uri": "https://localhost:8080/"
        },
        "id": "KFYcui6JE-_y",
        "outputId": "083ddd04-539e-49fa-fc35-e37244119b52"
      },
      "outputs": [
        {
          "name": "stdout",
          "output_type": "stream",
          "text": [
            "Number of speakers: 251\n",
            "Number of speakers: 40\n",
            "Number of speakers: 40\n",
            "Number of training samples: 28539\n",
            "Number of validation samples: 2703\n",
            "Number of testing samples: 2620\n"
          ]
        }
      ],
      "source": [
        "train_root = \"./LibriSpeech/train-clean-100\"\n",
        "val_root = \"./LibriSpeech/dev-clean\"\n",
        "test_root = \"./LibriSpeech/test-clean\"\n",
        "\n",
        "train_audio_files, train_speaker_labels = get_speaker_labels(train_root)\n",
        "val_audio_files, val_speaker_labels = get_speaker_labels(val_root)\n",
        "test_audio_files, test_speaker_labels = get_speaker_labels(test_root)\n",
        "\n",
        "print(f\"Number of training samples: {len(train_audio_files)}\")\n",
        "print(f\"Number of validation samples: {len(val_audio_files)}\")\n",
        "print(f\"Number of testing samples: {len(test_audio_files)}\")"
      ]
    },
    {
      "cell_type": "code",
      "execution_count": 36,
      "metadata": {
        "id": "i1s0sDAXFANk"
      },
      "outputs": [],
      "source": [
        "import os\n",
        "from collections import defaultdict\n",
        "\n",
        "def parse_speaker_metadata(metadata_path):\n",
        "    \"\"\"Parsa il file SPEAKERS.TXT e ritorna un dizionario speaker_id -> gender.\"\"\"\n",
        "    speaker_gender = {}\n",
        "    with open(metadata_path, 'r') as f:\n",
        "        for line in f:\n",
        "            if line.startswith(';') or not line.strip():\n",
        "                continue\n",
        "            parts = line.strip().split('|')\n",
        "            if len(parts) >= 2:\n",
        "                speaker_id = parts[0].strip()\n",
        "                gender = parts[1].strip().lower()\n",
        "                speaker_gender[speaker_id] = gender\n",
        "    return speaker_gender\n",
        "\n",
        "def create_speakers_dict(librispeech_root):\n",
        "    \"\"\"\n",
        "    Scansiona tutte le subset di LibriSpeech e ritorna un unico dizionario speaker_id -> {sex, audio_paths}\n",
        "    \"\"\"\n",
        "    metadata_file = os.path.join(librispeech_root, \"SPEAKERS.TXT\")\n",
        "    speaker_gender = parse_speaker_metadata(metadata_file)\n",
        "    print(len(speaker_gender))\n",
        "\n",
        "    speakers_dict = defaultdict(lambda: {'sex': None, 'audio_paths': []})\n",
        "\n",
        "    # Cartelle subset da analizzare\n",
        "    subsets = ['train-clean-100', 'dev-clean', 'test-clean']\n",
        "\n",
        "    for subset in subsets:\n",
        "        subset_path = os.path.join(librispeech_root, subset)\n",
        "        print(subset_path)\n",
        "        if not os.path.exists(subset_path):\n",
        "            continue\n",
        "\n",
        "        for speaker_id in os.listdir(subset_path):\n",
        "            speaker_path = os.path.join(subset_path, speaker_id)\n",
        "            if not os.path.isdir(speaker_path):\n",
        "                continue\n",
        "\n",
        "            for chapter_id in os.listdir(speaker_path):\n",
        "                chapter_path = os.path.join(speaker_path, chapter_id)\n",
        "                if not os.path.isdir(chapter_path):\n",
        "                    continue\n",
        "\n",
        "                for file in os.listdir(chapter_path):\n",
        "                    if file.endswith(\".flac\"):\n",
        "                        file_path = os.path.join(chapter_path, file)\n",
        "                        speakers_dict[speaker_id]['audio_paths'].append(file_path)\n",
        "\n",
        "            if speakers_dict[speaker_id]['sex'] is None:\n",
        "                speakers_dict[speaker_id]['sex'] = speaker_gender.get(speaker_id, \"unknown\")\n",
        "\n",
        "    return dict(speakers_dict)\n"
      ]
    },
    {
      "cell_type": "code",
      "execution_count": 37,
      "metadata": {
        "colab": {
          "base_uri": "https://localhost:8080/"
        },
        "id": "IVWdeup4FB2j",
        "outputId": "e87ca0ee-d051-4075-e146-7428d771eeb6"
      },
      "outputs": [
        {
          "name": "stdout",
          "output_type": "stream",
          "text": [
            "2484\n",
            "./LibriSpeech/train-clean-100\n",
            "./LibriSpeech/dev-clean\n",
            "./LibriSpeech/test-clean\n",
            "Numero speaker trovati: 331\n"
          ]
        }
      ],
      "source": [
        "lib_path = \"./LibriSpeech\"  # modifica con il path corretto\n",
        "speakers = create_speakers_dict(lib_path)\n",
        "print(f\"Numero speaker trovati: {len(speakers)}\")"
      ]
    },
    {
      "cell_type": "code",
      "execution_count": 38,
      "metadata": {
        "id": "UrmdvxvTFDBi"
      },
      "outputs": [],
      "source": [
        "# Top 10 male speakers by number of audio_paths\n",
        "top_male_speakers = sorted(\n",
        "    [(k, v) for k, v in speakers.items() if v['sex'] == 'm'],\n",
        "    key=lambda x: len(x[1]['audio_paths']),\n",
        "    reverse=True\n",
        ")[:10]\n",
        "\n",
        "# Top 10 female speakers by number of audio_paths\n",
        "top_female_speakers = sorted(\n",
        "    [(k, v) for k, v in speakers.items() if v['sex'] == 'f'],\n",
        "    key=lambda x: len(x[1]['audio_paths']),\n",
        "    reverse=True\n",
        ")[:10]\n"
      ]
    },
    {
      "cell_type": "code",
      "execution_count": 39,
      "metadata": {
        "colab": {
          "base_uri": "https://localhost:8080/"
        },
        "id": "0e705R2aFETa",
        "outputId": "dd5b1dcc-5076-4fcd-a5b2-7d69c19e0a1b"
      },
      "outputs": [
        {
          "name": "stdout",
          "output_type": "stream",
          "text": [
            "Speaker ID: 4014\n",
            "Gender: m\n",
            "Number of audio files: 165\n",
            "------------------------------\n",
            "Speaker ID: 8063\n",
            "Gender: m\n",
            "Number of audio files: 155\n",
            "------------------------------\n",
            "Speaker ID: 27\n",
            "Gender: m\n",
            "Number of audio files: 138\n",
            "------------------------------\n",
            "Speaker ID: 1867\n",
            "Gender: m\n",
            "Number of audio files: 137\n",
            "------------------------------\n",
            "Speaker ID: 118\n",
            "Gender: m\n",
            "Number of audio files: 137\n",
            "------------------------------\n",
            "Speaker ID: 7190\n",
            "Gender: m\n",
            "Number of audio files: 131\n",
            "------------------------------\n",
            "Speaker ID: 1455\n",
            "Gender: m\n",
            "Number of audio files: 131\n",
            "------------------------------\n",
            "Speaker ID: 4406\n",
            "Gender: m\n",
            "Number of audio files: 130\n",
            "------------------------------\n",
            "Speaker ID: 2289\n",
            "Gender: m\n",
            "Number of audio files: 130\n",
            "------------------------------\n",
            "Speaker ID: 1081\n",
            "Gender: m\n",
            "Number of audio files: 130\n",
            "------------------------------\n",
            "Speaker ID: 211\n",
            "Gender: f\n",
            "Number of audio files: 166\n",
            "------------------------------\n",
            "Speaker ID: 730\n",
            "Gender: f\n",
            "Number of audio files: 161\n",
            "------------------------------\n",
            "Speaker ID: 2989\n",
            "Gender: f\n",
            "Number of audio files: 155\n",
            "------------------------------\n",
            "Speaker ID: 4195\n",
            "Gender: f\n",
            "Number of audio files: 140\n",
            "------------------------------\n",
            "Speaker ID: 125\n",
            "Gender: f\n",
            "Number of audio files: 138\n",
            "------------------------------\n",
            "Speaker ID: 5339\n",
            "Gender: f\n",
            "Number of audio files: 137\n",
            "------------------------------\n",
            "Speaker ID: 1502\n",
            "Gender: f\n",
            "Number of audio files: 136\n",
            "------------------------------\n",
            "Speaker ID: 7302\n",
            "Gender: f\n",
            "Number of audio files: 135\n",
            "------------------------------\n",
            "Speaker ID: 5561\n",
            "Gender: f\n",
            "Number of audio files: 134\n",
            "------------------------------\n",
            "Speaker ID: 6531\n",
            "Gender: f\n",
            "Number of audio files: 133\n",
            "------------------------------\n"
          ]
        }
      ],
      "source": [
        "for speaker_id, speaker_info in top_male_speakers:\n",
        "    print(f\"Speaker ID: {speaker_id}\")\n",
        "    print(f\"Gender: {speaker_info['sex']}\")\n",
        "    print(f\"Number of audio files: {len(speaker_info['audio_paths'])}\")\n",
        "    print(\"-\" * 30)\n",
        "\n",
        "for speaker_id, speaker_info in top_female_speakers:\n",
        "    print(f\"Speaker ID: {speaker_id}\")\n",
        "    print(f\"Gender: {speaker_info['sex']}\")\n",
        "    print(f\"Number of audio files: {len(speaker_info['audio_paths'])}\")\n",
        "    print(\"-\" * 30)"
      ]
    },
    {
      "cell_type": "code",
      "execution_count": 40,
      "metadata": {
        "id": "247-pmYJFGOq"
      },
      "outputs": [],
      "source": [
        "top_3_male_speakers = top_male_speakers[:5]\n",
        "top_3_female_speakers = top_female_speakers[:5]"
      ]
    },
    {
      "cell_type": "code",
      "execution_count": 41,
      "metadata": {
        "id": "gDFQsgM0FIUz"
      },
      "outputs": [],
      "source": [
        "import random\n",
        "\n",
        "selected_speakers = top_3_male_speakers + top_3_female_speakers\n",
        "\n",
        "speaker_split_data = {}\n",
        "\n",
        "# Populate the speaker_split_data dictionary\n",
        "for speaker_id, speaker_info in selected_speakers:\n",
        "    all_audio_paths = speaker_info['audio_paths']\n",
        "    total_files = len(all_audio_paths)\n",
        "    num_test_files = max(1, int(total_files * 0.1)) # splitting al 10%\n",
        "\n",
        "    # Shuffle the files to ensure random split\n",
        "    random.shuffle(all_audio_paths)\n",
        "\n",
        "    # Split into train and test sets\n",
        "    test_files = all_audio_paths[:num_test_files]\n",
        "    train_files = all_audio_paths[num_test_files:]\n",
        "\n",
        "    speaker_split_data[speaker_id] = {\n",
        "        'train': train_files,\n",
        "        'test': test_files\n",
        "    }"
      ]
    },
    {
      "cell_type": "code",
      "execution_count": 42,
      "metadata": {
        "colab": {
          "base_uri": "https://localhost:8080/"
        },
        "id": "zcxXHG7zFMBr",
        "outputId": "db8249dc-9e76-4ddc-b834-548c05e5fa2f"
      },
      "outputs": [
        {
          "name": "stdout",
          "output_type": "stream",
          "text": [
            "Speaker ID: 4014\n",
            "Speaker ID: 8063\n",
            "Speaker ID: 27\n",
            "Speaker ID: 1867\n",
            "Speaker ID: 118\n",
            "Speaker ID: 211\n",
            "Speaker ID: 730\n",
            "Speaker ID: 2989\n",
            "Speaker ID: 4195\n",
            "Speaker ID: 125\n"
          ]
        }
      ],
      "source": [
        "# Print the structure and number of files for each speaker\n",
        "for speaker_id, split_data in speaker_split_data.items():\n",
        "    print(f\"Speaker ID: {speaker_id}\")\n",
        "\n",
        "# Speaker ID: 4014\n",
        "# Speaker ID: 8063\n",
        "# Speaker ID: 27\n",
        "# Speaker ID: 118\n",
        "# Speaker ID: 1867\n",
        "# Speaker ID: 211\n",
        "# Speaker ID: 730\n",
        "# Speaker ID: 2989\n",
        "# Speaker ID: 4195\n",
        "# Speaker ID: 125"
      ]
    },
    {
      "cell_type": "code",
      "execution_count": 43,
      "metadata": {
        "colab": {
          "base_uri": "https://localhost:8080/"
        },
        "id": "eiXNuypXFMrC",
        "outputId": "b3036f39-72bc-4abb-8b37-59ee0305c5ae"
      },
      "outputs": [
        {
          "name": "stdout",
          "output_type": "stream",
          "text": [
            "1348\n"
          ]
        }
      ],
      "source": [
        "audio_paths = []\n",
        "for speaker_id, split_data in speaker_split_data.items():\n",
        "    audio_paths.extend(split_data['train'])\n",
        "print(len(audio_paths))"
      ]
    },
    {
      "cell_type": "markdown",
      "metadata": {
        "id": "LGRN40xYFZCL"
      },
      "source": [
        "# X-Vectors"
      ]
    },
    {
      "cell_type": "code",
      "execution_count": null,
      "metadata": {
        "id": "ZI6Q1ib3FaaU"
      },
      "outputs": [],
      "source": [
        "import os\n",
        "import torch\n",
        "import torch.nn as nn\n",
        "import torch.nn.functional as F\n",
        "import librosa\n",
        "import numpy as np\n",
        "from sklearn.preprocessing import normalize\n",
        "from scipy.stats import zscore\n",
        "from IPython.display import Audio"
      ]
    },
    {
      "cell_type": "code",
      "execution_count": 46,
      "metadata": {
        "id": "4tyHQsBZFdaq"
      },
      "outputs": [],
      "source": [
        "class MFCCExtractor:\n",
        "    def __init__(self, n_mfcc=24, win_length=0.025, hop_length=0.010):\n",
        "        self.n_mfcc = n_mfcc\n",
        "        self.win_length_s = win_length\n",
        "        self.hop_length_s = hop_length\n",
        "\n",
        "    def extract(self, audio_path):\n",
        "        y, sr = librosa.load(audio_path, sr=None)\n",
        "        win_length = int(sr * self.win_length_s)\n",
        "        hop_length = int(sr * self.hop_length_s)\n",
        "        mfcc = librosa.feature.mfcc(y=y, sr=sr, n_mfcc=self.n_mfcc, n_fft=win_length, hop_length=hop_length)\n",
        "        delta = librosa.feature.delta(mfcc)\n",
        "        return np.vstack([mfcc, delta]).T  # (T, 48)"
      ]
    },
    {
      "cell_type": "code",
      "execution_count": 47,
      "metadata": {
        "id": "jyxptXuDFs5q"
      },
      "outputs": [],
      "source": [
        "#nell'articolo dichiarano di usare un VAD  Voice Activity Detector basato su una soglia di energia\n",
        "class AudioEmbeddingPreparer:\n",
        "    def energy_vad(self, mfcc):\n",
        "        energy = mfcc[:, 0]\n",
        "        threshold = np.percentile(energy, 30)\n",
        "        # nell'articolo non specificano quanto vale la soglia, andrebbe valutato in termini di cross validazione\n",
        "        # tuttavia possiamo notare come effettivamente il dataset sia ben strutturato, quindi basterebbe una soglia minima come questa\n",
        "        return mfcc[energy > threshold]\n",
        "\n",
        "    def prepare(self, mfcc_features):\n",
        "        filtered = self.energy_vad(mfcc_features) # filtro in base al VAD\n",
        "        return zscore(filtered, axis=0)"
      ]
    },
    {
      "cell_type": "code",
      "execution_count": 48,
      "metadata": {
        "id": "U2LazcOUGEbz"
      },
      "outputs": [],
      "source": [
        "class XVectorDNN(nn.Module):\n",
        "    def __init__(self, input_dim=48, num_spkrs=1000, embedding_dim=512):\n",
        "        super().__init__()\n",
        "        self.tdnn1 = nn.Linear(input_dim * 5, 512)\n",
        "        self.tdnn2 = nn.Linear(512 * 3, 512)\n",
        "        self.tdnn3 = nn.Linear(512 * 3, 512)\n",
        "        self.tdnn4 = nn.Linear(512, 512)\n",
        "        self.tdnn5 = nn.Linear(512, 1500)\n",
        "        self.segment6 = nn.Linear(3000, embedding_dim)\n",
        "        self.segment7 = nn.Linear(embedding_dim, embedding_dim)\n",
        "        self.softmax = nn.Linear(embedding_dim, num_spkrs)\n",
        "\n",
        "    def splice(self, x, offsets):\n",
        "        B, T, D = x.shape\n",
        "        out = []\n",
        "        for o in offsets:\n",
        "            idx = (torch.arange(T) + o).to(device)\n",
        "            idx = torch.clamp(idx, 0, T-1)\n",
        "            idx = idx.unsqueeze(0).unsqueeze(-1).expand(B, -1, -1) # Shape: (B, T, 1)\n",
        "            out.append(torch.gather(x, 1, idx.expand(-1, -1, D)))\n",
        "        return torch.cat(out, dim=2)\n",
        "\n",
        "    def forward(self, x):\n",
        "        x = self.splice(x, [-2, -1, 0, 1, 2])\n",
        "        x = F.relu(self.tdnn1(x))\n",
        "        x = self.splice(x, [-2, 0, 2])\n",
        "        x = F.relu(self.tdnn2(x))\n",
        "        x = self.splice(x, [-3, 0, 3])\n",
        "        x = F.relu(self.tdnn3(x))\n",
        "        x = F.relu(self.tdnn4(x))\n",
        "        x = F.relu(self.tdnn5(x))\n",
        "        mean = x.mean(1)\n",
        "        std = x.std(1)\n",
        "        pooled = torch.cat((mean, std), dim=1)\n",
        "        pre_relu = self.segment6(pooled)\n",
        "        xvec = pre_relu\n",
        "        x = F.relu(pre_relu)\n",
        "        x = F.relu(self.segment7(x))\n",
        "        # logits = self.softmax(x) # non applico la softmax finale\n",
        "        return x, xvec"
      ]
    },
    {
      "cell_type": "code",
      "execution_count": 49,
      "metadata": {
        "colab": {
          "base_uri": "https://localhost:8080/"
        },
        "id": "7wWjBnwsGT5q",
        "outputId": "9d125265-6b3e-4f1f-c58d-023926a16290"
      },
      "outputs": [
        {
          "name": "stdout",
          "output_type": "stream",
          "text": [
            "1348\n"
          ]
        }
      ],
      "source": [
        "audio_paths = []\n",
        "for speaker_id, split_data in speaker_split_data.items():\n",
        "    audio_paths.extend(split_data['train'])\n",
        "print(len(audio_paths))"
      ]
    },
    {
      "cell_type": "code",
      "execution_count": 50,
      "metadata": {
        "id": "Uwkm_7yYGVVS"
      },
      "outputs": [],
      "source": [
        "mfcc_extractor = MFCCExtractor()\n",
        "preparer = AudioEmbeddingPreparer()"
      ]
    },
    {
      "cell_type": "code",
      "execution_count": 51,
      "metadata": {
        "colab": {
          "base_uri": "https://localhost:8080/"
        },
        "id": "YqIlW6O7GWGr",
        "outputId": "6e92494c-1951-4742-cb14-afd9f333b14a"
      },
      "outputs": [
        {
          "data": {
            "text/plain": [
              "(971, 48)"
            ]
          },
          "execution_count": 51,
          "metadata": {},
          "output_type": "execute_result"
        }
      ],
      "source": [
        "# prova delle classi\n",
        "audio_path = audio_paths[0]\n",
        "features = preparer.prepare(mfcc_extractor.extract(audio_path))\n",
        "features.shape"
      ]
    },
    {
      "cell_type": "code",
      "execution_count": 52,
      "metadata": {
        "id": "zR5sYj40Gu_V"
      },
      "outputs": [],
      "source": [
        "def exctract_embeddings(audio_path, max_frames=1600):\n",
        "    \"\"\"\n",
        "    Questa funzione permette di calcolare gli MFCC per una singola traccia audio effettuando analisi STFT\n",
        "    In questa versione usiamo i semplici MFCC come embedding\n",
        "    Args:\n",
        "    - audio_path (str): Path to the audio file.\n",
        "    - n_mfcc (int): Number of MFCCs to extract.\n",
        "    - frame_length_ms (int): Frame length in milliseconds.\n",
        "    - frame_hop_ms (int): Hop length in milliseconds.\n",
        "    \"\"\"\n",
        "    features = preparer.prepare(mfcc_extractor.extract(audio_path))  # (frames, n_mfcc)\n",
        "    # Pad or truncate to fixed max_frames\n",
        "    if features.shape[0] < max_frames:\n",
        "        pad_width = max_frames - features.shape[0]\n",
        "        features = np.pad(features, ((0, pad_width), (0, 0)), mode='constant')\n",
        "    else:\n",
        "        features = features[:max_frames, :]  # truncate\n",
        "    return torch.tensor(features, dtype=torch.float32)  # Shape: (Frames, MFCCs)"
      ]
    },
    {
      "cell_type": "code",
      "execution_count": 53,
      "metadata": {
        "colab": {
          "base_uri": "https://localhost:8080/"
        },
        "id": "Wj3hyauUG0Dz",
        "outputId": "cae038d4-f6f3-44ac-a548-1787c7da2b20"
      },
      "outputs": [
        {
          "data": {
            "text/plain": [
              "torch.Size([1600, 48])"
            ]
          },
          "execution_count": 53,
          "metadata": {},
          "output_type": "execute_result"
        }
      ],
      "source": [
        "audio_path = audio_paths[0]\n",
        "features = exctract_embeddings(audio_path)\n",
        "features.shape"
      ]
    },
    {
      "cell_type": "code",
      "execution_count": 54,
      "metadata": {
        "id": "75kBF_WYG2Bm"
      },
      "outputs": [],
      "source": [
        "# Load dataset and prepare training & test data\n",
        "def load_data(speaker_audio_paths):\n",
        "    X_train, y_train, X_test, y_test = [], [], [], []\n",
        "    speaker_to_index = {speaker: idx for idx, speaker in enumerate(speaker_audio_paths.keys())}\n",
        "    for speaker_id, data in speaker_audio_paths.items():\n",
        "        # Process training samples\n",
        "        for audio_path in data[\"train\"]:\n",
        "            features_tensor = exctract_embeddings(audio_path)\n",
        "            X_train.append(features_tensor)\n",
        "            y_train.append(speaker_to_index[speaker_id])\n",
        "        # Process test sample (single file per speaker)\n",
        "        for audio_path in data[\"test\"]:\n",
        "            features_tensor = exctract_embeddings(audio_path)\n",
        "            X_test.append(features_tensor)\n",
        "            y_test.append(speaker_to_index[speaker_id])\n",
        "    return (\n",
        "        torch.stack(X_train), torch.tensor(y_train, dtype=torch.long),\n",
        "        torch.stack(X_test), torch.tensor(y_test, dtype=torch.long),\n",
        "        speaker_to_index\n",
        "    )"
      ]
    },
    {
      "cell_type": "code",
      "execution_count": 55,
      "metadata": {
        "id": "JbRJZ_ekIBAK"
      },
      "outputs": [],
      "source": [
        "import torch\n",
        "import numpy as np\n",
        "from sklearn.metrics import accuracy_score, f1_score\n",
        "from tqdm import tqdm\n",
        "\n",
        "X_train, y_train, X_test, y_test, speaker_to_index = load_data(speaker_split_data)"
      ]
    },
    {
      "cell_type": "code",
      "execution_count": 56,
      "metadata": {
        "colab": {
          "base_uri": "https://localhost:8080/"
        },
        "id": "bbWJ-KiXIDAC",
        "outputId": "92101cf5-cac8-4a72-da2c-242fa909d231"
      },
      "outputs": [
        {
          "name": "stdout",
          "output_type": "stream",
          "text": [
            "torch.Size([1348, 1600, 48])\n",
            "torch.Size([1348])\n",
            "torch.Size([144, 1600, 48])\n",
            "torch.Size([144])\n"
          ]
        }
      ],
      "source": [
        "print(X_train.shape)\n",
        "print(y_train.shape)\n",
        "print(X_test.shape)\n",
        "print(y_test.shape)"
      ]
    },
    {
      "cell_type": "code",
      "execution_count": 57,
      "metadata": {
        "id": "eyFH8vQ8IFsi"
      },
      "outputs": [],
      "source": [
        "import torch\n",
        "import torch.nn as nn\n",
        "import torch.optim as optim\n",
        "from torch.utils.data import DataLoader, TensorDataset\n",
        "\n",
        "# Initialize model\n",
        "# input dim sono gli embeddings di feature input, quindi il numero di mfcc\n",
        "model = XVectorDNN(input_dim=X_train.shape[2], num_spkrs=len(speaker_to_index))\n",
        "\n",
        "# Define loss and optimizer\n",
        "criterion = nn.CrossEntropyLoss()\n",
        "optimizer = optim.AdamW(model.parameters(), lr=0.001)\n",
        "\n",
        "# Parametri per early stopping\n",
        "patience = 30  # Numero di epoche senza miglioramenti prima di fermarsi\n",
        "best_f1 = 0\n",
        "counter = 0\n",
        "best_model_state = None"
      ]
    },
    {
      "cell_type": "code",
      "execution_count": 58,
      "metadata": {
        "colab": {
          "base_uri": "https://localhost:8080/"
        },
        "id": "63KWU1k8INQ6",
        "outputId": "189f2aa3-5ee7-4c68-bb3c-4c266ad80035"
      },
      "outputs": [
        {
          "name": "stdout",
          "output_type": "stream",
          "text": [
            "Model: XVectorDNN(\n",
            "  (tdnn1): Linear(in_features=240, out_features=512, bias=True)\n",
            "  (tdnn2): Linear(in_features=1536, out_features=512, bias=True)\n",
            "  (tdnn3): Linear(in_features=1536, out_features=512, bias=True)\n",
            "  (tdnn4): Linear(in_features=512, out_features=512, bias=True)\n",
            "  (tdnn5): Linear(in_features=512, out_features=1500, bias=True)\n",
            "  (segment6): Linear(in_features=3000, out_features=512, bias=True)\n",
            "  (segment7): Linear(in_features=512, out_features=512, bias=True)\n",
            "  (softmax): Linear(in_features=512, out_features=10, bias=True)\n",
            ")\n",
            "Number of parameters: 4533734\n"
          ]
        }
      ],
      "source": [
        "print(f\"Model: {model}\")\n",
        "print(f\"Number of parameters: {sum(p.numel() for p in model.parameters())}\")"
      ]
    },
    {
      "cell_type": "code",
      "execution_count": 59,
      "metadata": {
        "id": "vxbS3vd9IPsy"
      },
      "outputs": [],
      "source": [
        "device = torch.device(\"cuda\" if torch.cuda.is_available() else \"cpu\")"
      ]
    },
    {
      "cell_type": "code",
      "execution_count": 60,
      "metadata": {
        "id": "WB_dT6i9IQxT"
      },
      "outputs": [],
      "source": [
        "from torch.utils.data import Dataset, DataLoader\n",
        "\n",
        "class SpeakerDataset(Dataset):\n",
        "    def __init__(self, speaker_audio_paths, max_frames=1600):\n",
        "        self.samples = []\n",
        "        self.labels = []\n",
        "        self.speaker_to_index = {speaker: idx for idx, speaker in enumerate(speaker_audio_paths.keys())}\n",
        "        for speaker, data in speaker_audio_paths.items():\n",
        "            label = self.speaker_to_index[speaker]\n",
        "            for split in [\"train\", \"test\"]:\n",
        "                for audio_path in data[split]:\n",
        "                    features = exctract_embeddings(audio_path, max_frames=max_frames)\n",
        "                    self.samples.append(features)\n",
        "                    self.labels.append(label)\n",
        "\n",
        "    def __len__(self):\n",
        "        return len(self.samples)\n",
        "\n",
        "    def __getitem__(self, idx):\n",
        "        return self.samples[idx], self.labels[idx]"
      ]
    },
    {
      "cell_type": "code",
      "execution_count": 61,
      "metadata": {
        "id": "lZgMkVYFIR1b"
      },
      "outputs": [],
      "source": [
        "# Then create separate train/test datasets:\n",
        "train_samples = []\n",
        "train_labels = []\n",
        "test_samples = []\n",
        "test_labels = []\n",
        "for speaker, data in speaker_split_data.items():\n",
        "    label = speaker_to_index[speaker]\n",
        "    for audio_path in data[\"train\"]:\n",
        "        train_samples.append(exctract_embeddings(audio_path, max_frames=1600))\n",
        "        train_labels.append(label)\n",
        "    for audio_path in data[\"test\"]:\n",
        "        test_samples.append(exctract_embeddings(audio_path, max_frames=1600))\n",
        "        test_labels.append(label)"
      ]
    },
    {
      "cell_type": "code",
      "execution_count": 62,
      "metadata": {
        "id": "U8v0Z9JXIyx8"
      },
      "outputs": [],
      "source": [
        "train_dataset = torch.utils.data.TensorDataset(torch.stack(train_samples), torch.tensor(train_labels))\n",
        "test_dataset = torch.utils.data.TensorDataset(torch.stack(test_samples), torch.tensor(test_labels))\n",
        "\n",
        "train_loader = DataLoader(train_dataset, batch_size=32, shuffle=True)\n",
        "test_loader = DataLoader(test_dataset, batch_size=32)"
      ]
    },
    {
      "cell_type": "code",
      "execution_count": 63,
      "metadata": {
        "id": "2NBWxpTzIg3V"
      },
      "outputs": [],
      "source": [
        "device = torch.device(\"cuda\" if torch.cuda.is_available() else \"cpu\")\n",
        "model = XVectorDNN(input_dim=X_train.shape[2], num_spkrs=len(speaker_to_index))\n",
        "model.to(device)\n",
        "criterion = torch.nn.CrossEntropyLoss()\n",
        "optimizer = torch.optim.AdamW(model.parameters(), lr=2e-5)\n",
        "\n",
        "best_f1 = 0.0\n",
        "counter = 0\n",
        "patience = 30"
      ]
    },
    {
      "cell_type": "code",
      "execution_count": 64,
      "metadata": {
        "colab": {
          "base_uri": "https://localhost:8080/"
        },
        "id": "QljBjhkyImHr",
        "outputId": "febad4a8-d4f3-4e23-b8c5-284fafa0f10d"
      },
      "outputs": [
        {
          "name": "stderr",
          "output_type": "stream",
          "text": [
            "Training:   0%|          | 1/300 [00:10<51:11, 10.27s/it]"
          ]
        },
        {
          "name": "stdout",
          "output_type": "stream",
          "text": [
            "Epoch 1, Train Loss: 6.1974, Val Loss: 6.0933, Accuracy: 9.03%, F1: 0.0150\n",
            "New best F1: 0.0150 - saving model\n"
          ]
        },
        {
          "name": "stderr",
          "output_type": "stream",
          "text": [
            "\rTraining:   1%|          | 2/300 [00:20<51:05, 10.29s/it]"
          ]
        },
        {
          "name": "stdout",
          "output_type": "stream",
          "text": [
            "Epoch 2, Train Loss: 4.9534, Val Loss: 2.8130, Accuracy: 11.11%, F1: 0.0222\n",
            "New best F1: 0.0222 - saving model\n"
          ]
        },
        {
          "name": "stderr",
          "output_type": "stream",
          "text": [
            "\rTraining:   1%|          | 3/300 [00:30<51:08, 10.33s/it]"
          ]
        },
        {
          "name": "stdout",
          "output_type": "stream",
          "text": [
            "Epoch 3, Train Loss: 2.4285, Val Loss: 2.3914, Accuracy: 11.11%, F1: 0.0222\n",
            "New best F1: 0.0222 - saving model\n"
          ]
        },
        {
          "name": "stderr",
          "output_type": "stream",
          "text": [
            "\rTraining:   1%|▏         | 4/300 [00:41<51:10, 10.37s/it]"
          ]
        },
        {
          "name": "stdout",
          "output_type": "stream",
          "text": [
            "Epoch 4, Train Loss: 2.3448, Val Loss: 2.3423, Accuracy: 11.81%, F1: 0.0579\n",
            "New best F1: 0.0579 - saving model\n"
          ]
        },
        {
          "name": "stderr",
          "output_type": "stream",
          "text": [
            "\rTraining:   2%|▏         | 5/300 [00:51<51:10, 10.41s/it]"
          ]
        },
        {
          "name": "stdout",
          "output_type": "stream",
          "text": [
            "Epoch 5, Train Loss: 2.3215, Val Loss: 2.3270, Accuracy: 11.11%, F1: 0.0367\n"
          ]
        },
        {
          "name": "stderr",
          "output_type": "stream",
          "text": [
            "\rTraining:   2%|▏         | 6/300 [01:02<51:12, 10.45s/it]"
          ]
        },
        {
          "name": "stdout",
          "output_type": "stream",
          "text": [
            "Epoch 6, Train Loss: 2.3206, Val Loss: 2.3628, Accuracy: 11.11%, F1: 0.0222\n"
          ]
        },
        {
          "name": "stderr",
          "output_type": "stream",
          "text": [
            "\rTraining:   2%|▏         | 7/300 [01:12<51:12, 10.49s/it]"
          ]
        },
        {
          "name": "stdout",
          "output_type": "stream",
          "text": [
            "Epoch 7, Train Loss: 2.3270, Val Loss: 2.3117, Accuracy: 11.11%, F1: 0.0601\n",
            "New best F1: 0.0601 - saving model\n"
          ]
        },
        {
          "name": "stderr",
          "output_type": "stream",
          "text": [
            "\rTraining:   3%|▎         | 8/300 [01:23<51:12, 10.52s/it]"
          ]
        },
        {
          "name": "stdout",
          "output_type": "stream",
          "text": [
            "Epoch 8, Train Loss: 2.3266, Val Loss: 2.3135, Accuracy: 11.11%, F1: 0.0592\n"
          ]
        },
        {
          "name": "stderr",
          "output_type": "stream",
          "text": [
            "\rTraining:   3%|▎         | 9/300 [01:34<51:10, 10.55s/it]"
          ]
        },
        {
          "name": "stdout",
          "output_type": "stream",
          "text": [
            "Epoch 9, Train Loss: 2.3179, Val Loss: 2.3167, Accuracy: 9.72%, F1: 0.0335\n"
          ]
        },
        {
          "name": "stderr",
          "output_type": "stream",
          "text": [
            "\rTraining:   3%|▎         | 10/300 [01:44<51:06, 10.57s/it]"
          ]
        },
        {
          "name": "stdout",
          "output_type": "stream",
          "text": [
            "Epoch 10, Train Loss: 2.3176, Val Loss: 2.3251, Accuracy: 13.19%, F1: 0.0776\n",
            "New best F1: 0.0776 - saving model\n"
          ]
        },
        {
          "name": "stderr",
          "output_type": "stream",
          "text": [
            "\rTraining:   4%|▎         | 11/300 [01:55<50:59, 10.59s/it]"
          ]
        },
        {
          "name": "stdout",
          "output_type": "stream",
          "text": [
            "Epoch 11, Train Loss: 2.3324, Val Loss: 2.3032, Accuracy: 11.11%, F1: 0.0383\n"
          ]
        },
        {
          "name": "stderr",
          "output_type": "stream",
          "text": [
            "\rTraining:   4%|▍         | 12/300 [02:06<50:51, 10.60s/it]"
          ]
        },
        {
          "name": "stdout",
          "output_type": "stream",
          "text": [
            "Epoch 12, Train Loss: 2.3107, Val Loss: 2.3138, Accuracy: 12.50%, F1: 0.0435\n"
          ]
        },
        {
          "name": "stderr",
          "output_type": "stream",
          "text": [
            "\rTraining:   4%|▍         | 13/300 [02:16<50:43, 10.61s/it]"
          ]
        },
        {
          "name": "stdout",
          "output_type": "stream",
          "text": [
            "Epoch 13, Train Loss: 2.3135, Val Loss: 2.3148, Accuracy: 9.03%, F1: 0.0396\n"
          ]
        },
        {
          "name": "stderr",
          "output_type": "stream",
          "text": [
            "\rTraining:   5%|▍         | 14/300 [02:27<50:34, 10.61s/it]"
          ]
        },
        {
          "name": "stdout",
          "output_type": "stream",
          "text": [
            "Epoch 14, Train Loss: 2.3135, Val Loss: 2.3082, Accuracy: 13.19%, F1: 0.0626\n"
          ]
        },
        {
          "name": "stderr",
          "output_type": "stream",
          "text": [
            "\rTraining:   5%|▌         | 15/300 [02:37<50:24, 10.61s/it]"
          ]
        },
        {
          "name": "stdout",
          "output_type": "stream",
          "text": [
            "Epoch 15, Train Loss: 2.3107, Val Loss: 2.3054, Accuracy: 13.19%, F1: 0.0571\n"
          ]
        },
        {
          "name": "stderr",
          "output_type": "stream",
          "text": [
            "\rTraining:   5%|▌         | 16/300 [02:48<50:16, 10.62s/it]"
          ]
        },
        {
          "name": "stdout",
          "output_type": "stream",
          "text": [
            "Epoch 16, Train Loss: 2.3182, Val Loss: 2.3100, Accuracy: 12.50%, F1: 0.0577\n"
          ]
        },
        {
          "name": "stderr",
          "output_type": "stream",
          "text": [
            "\rTraining:   6%|▌         | 17/300 [02:59<50:09, 10.63s/it]"
          ]
        },
        {
          "name": "stdout",
          "output_type": "stream",
          "text": [
            "Epoch 17, Train Loss: 2.3057, Val Loss: 2.2986, Accuracy: 11.11%, F1: 0.0505\n"
          ]
        },
        {
          "name": "stderr",
          "output_type": "stream",
          "text": [
            "\rTraining:   6%|▌         | 18/300 [03:09<50:03, 10.65s/it]"
          ]
        },
        {
          "name": "stdout",
          "output_type": "stream",
          "text": [
            "Epoch 18, Train Loss: 2.2996, Val Loss: 2.3011, Accuracy: 12.50%, F1: 0.0529\n"
          ]
        },
        {
          "name": "stderr",
          "output_type": "stream",
          "text": [
            "\rTraining:   6%|▋         | 19/300 [03:20<49:53, 10.65s/it]"
          ]
        },
        {
          "name": "stdout",
          "output_type": "stream",
          "text": [
            "Epoch 19, Train Loss: 2.3051, Val Loss: 2.2891, Accuracy: 9.72%, F1: 0.0423\n"
          ]
        },
        {
          "name": "stderr",
          "output_type": "stream",
          "text": [
            "\rTraining:   7%|▋         | 20/300 [03:31<49:44, 10.66s/it]"
          ]
        },
        {
          "name": "stdout",
          "output_type": "stream",
          "text": [
            "Epoch 20, Train Loss: 2.2916, Val Loss: 2.3066, Accuracy: 11.81%, F1: 0.0428\n"
          ]
        },
        {
          "name": "stderr",
          "output_type": "stream",
          "text": [
            "\rTraining:   7%|▋         | 21/300 [03:41<49:37, 10.67s/it]"
          ]
        },
        {
          "name": "stdout",
          "output_type": "stream",
          "text": [
            "Epoch 21, Train Loss: 2.2761, Val Loss: 2.2763, Accuracy: 11.11%, F1: 0.0504\n"
          ]
        },
        {
          "name": "stderr",
          "output_type": "stream",
          "text": [
            "\rTraining:   7%|▋         | 22/300 [03:52<49:30, 10.69s/it]"
          ]
        },
        {
          "name": "stdout",
          "output_type": "stream",
          "text": [
            "Epoch 22, Train Loss: 2.2668, Val Loss: 2.2306, Accuracy: 18.75%, F1: 0.0914\n",
            "New best F1: 0.0914 - saving model\n"
          ]
        },
        {
          "name": "stderr",
          "output_type": "stream",
          "text": [
            "\rTraining:   8%|▊         | 23/300 [04:03<49:22, 10.70s/it]"
          ]
        },
        {
          "name": "stdout",
          "output_type": "stream",
          "text": [
            "Epoch 23, Train Loss: 2.2110, Val Loss: 2.1760, Accuracy: 19.44%, F1: 0.1016\n",
            "New best F1: 0.1016 - saving model\n"
          ]
        },
        {
          "name": "stderr",
          "output_type": "stream",
          "text": [
            "\rTraining:   8%|▊         | 24/300 [04:14<49:17, 10.72s/it]"
          ]
        },
        {
          "name": "stdout",
          "output_type": "stream",
          "text": [
            "Epoch 24, Train Loss: 2.1532, Val Loss: 2.1204, Accuracy: 15.97%, F1: 0.0644\n"
          ]
        },
        {
          "name": "stderr",
          "output_type": "stream",
          "text": [
            "\rTraining:   8%|▊         | 25/300 [04:24<49:10, 10.73s/it]"
          ]
        },
        {
          "name": "stdout",
          "output_type": "stream",
          "text": [
            "Epoch 25, Train Loss: 2.1003, Val Loss: 2.0857, Accuracy: 22.22%, F1: 0.1523\n",
            "New best F1: 0.1523 - saving model\n"
          ]
        },
        {
          "name": "stderr",
          "output_type": "stream",
          "text": [
            "\rTraining:   9%|▊         | 26/300 [04:35<49:02, 10.74s/it]"
          ]
        },
        {
          "name": "stdout",
          "output_type": "stream",
          "text": [
            "Epoch 26, Train Loss: 2.0484, Val Loss: 1.9964, Accuracy: 22.92%, F1: 0.1255\n"
          ]
        },
        {
          "name": "stderr",
          "output_type": "stream",
          "text": [
            "\rTraining:   9%|▉         | 27/300 [04:46<48:54, 10.75s/it]"
          ]
        },
        {
          "name": "stdout",
          "output_type": "stream",
          "text": [
            "Epoch 27, Train Loss: 2.0087, Val Loss: 1.9779, Accuracy: 22.92%, F1: 0.1461\n"
          ]
        },
        {
          "name": "stderr",
          "output_type": "stream",
          "text": [
            "\rTraining:   9%|▉         | 28/300 [04:57<48:46, 10.76s/it]"
          ]
        },
        {
          "name": "stdout",
          "output_type": "stream",
          "text": [
            "Epoch 28, Train Loss: 1.9860, Val Loss: 1.9894, Accuracy: 22.92%, F1: 0.1121\n"
          ]
        },
        {
          "name": "stderr",
          "output_type": "stream",
          "text": [
            "\rTraining:  10%|▉         | 29/300 [05:07<48:37, 10.77s/it]"
          ]
        },
        {
          "name": "stdout",
          "output_type": "stream",
          "text": [
            "Epoch 29, Train Loss: 1.9833, Val Loss: 1.9384, Accuracy: 25.00%, F1: 0.1949\n",
            "New best F1: 0.1949 - saving model\n"
          ]
        },
        {
          "name": "stderr",
          "output_type": "stream",
          "text": [
            "\rTraining:  10%|█         | 30/300 [05:18<48:29, 10.77s/it]"
          ]
        },
        {
          "name": "stdout",
          "output_type": "stream",
          "text": [
            "Epoch 30, Train Loss: 1.9503, Val Loss: 1.9603, Accuracy: 17.36%, F1: 0.0968\n"
          ]
        },
        {
          "name": "stderr",
          "output_type": "stream",
          "text": [
            "\rTraining:  10%|█         | 31/300 [05:29<48:19, 10.78s/it]"
          ]
        },
        {
          "name": "stdout",
          "output_type": "stream",
          "text": [
            "Epoch 31, Train Loss: 1.9413, Val Loss: 1.8897, Accuracy: 25.00%, F1: 0.1559\n"
          ]
        },
        {
          "name": "stderr",
          "output_type": "stream",
          "text": [
            "\rTraining:  11%|█         | 32/300 [05:40<48:10, 10.79s/it]"
          ]
        },
        {
          "name": "stdout",
          "output_type": "stream",
          "text": [
            "Epoch 32, Train Loss: 1.9441, Val Loss: 1.9085, Accuracy: 24.31%, F1: 0.1530\n"
          ]
        },
        {
          "name": "stderr",
          "output_type": "stream",
          "text": [
            "\rTraining:  11%|█         | 33/300 [05:51<47:59, 10.79s/it]"
          ]
        },
        {
          "name": "stdout",
          "output_type": "stream",
          "text": [
            "Epoch 33, Train Loss: 1.9250, Val Loss: 1.9143, Accuracy: 22.22%, F1: 0.1370\n"
          ]
        },
        {
          "name": "stderr",
          "output_type": "stream",
          "text": [
            "\rTraining:  11%|█▏        | 34/300 [06:01<47:50, 10.79s/it]"
          ]
        },
        {
          "name": "stdout",
          "output_type": "stream",
          "text": [
            "Epoch 34, Train Loss: 1.9250, Val Loss: 1.8882, Accuracy: 23.61%, F1: 0.1649\n"
          ]
        },
        {
          "name": "stderr",
          "output_type": "stream",
          "text": [
            "\rTraining:  12%|█▏        | 35/300 [06:12<47:40, 10.79s/it]"
          ]
        },
        {
          "name": "stdout",
          "output_type": "stream",
          "text": [
            "Epoch 35, Train Loss: 1.9105, Val Loss: 1.8982, Accuracy: 24.31%, F1: 0.1716\n"
          ]
        },
        {
          "name": "stderr",
          "output_type": "stream",
          "text": [
            "\rTraining:  12%|█▏        | 36/300 [06:23<47:30, 10.80s/it]"
          ]
        },
        {
          "name": "stdout",
          "output_type": "stream",
          "text": [
            "Epoch 36, Train Loss: 1.8836, Val Loss: 1.8521, Accuracy: 22.92%, F1: 0.1735\n"
          ]
        },
        {
          "name": "stderr",
          "output_type": "stream",
          "text": [
            "\rTraining:  12%|█▏        | 37/300 [06:34<47:21, 10.80s/it]"
          ]
        },
        {
          "name": "stdout",
          "output_type": "stream",
          "text": [
            "Epoch 37, Train Loss: 1.8583, Val Loss: 1.7833, Accuracy: 36.81%, F1: 0.2850\n",
            "New best F1: 0.2850 - saving model\n"
          ]
        },
        {
          "name": "stderr",
          "output_type": "stream",
          "text": [
            "\rTraining:  13%|█▎        | 38/300 [06:45<47:13, 10.81s/it]"
          ]
        },
        {
          "name": "stdout",
          "output_type": "stream",
          "text": [
            "Epoch 38, Train Loss: 1.8408, Val Loss: 1.8197, Accuracy: 31.25%, F1: 0.2053\n"
          ]
        },
        {
          "name": "stderr",
          "output_type": "stream",
          "text": [
            "\rTraining:  13%|█▎        | 39/300 [06:56<47:04, 10.82s/it]"
          ]
        },
        {
          "name": "stdout",
          "output_type": "stream",
          "text": [
            "Epoch 39, Train Loss: 1.7804, Val Loss: 1.6688, Accuracy: 33.33%, F1: 0.2277\n"
          ]
        },
        {
          "name": "stderr",
          "output_type": "stream",
          "text": [
            "\rTraining:  13%|█▎        | 40/300 [07:06<46:55, 10.83s/it]"
          ]
        },
        {
          "name": "stdout",
          "output_type": "stream",
          "text": [
            "Epoch 40, Train Loss: 1.6877, Val Loss: 1.5611, Accuracy: 43.75%, F1: 0.3828\n",
            "New best F1: 0.3828 - saving model\n"
          ]
        },
        {
          "name": "stderr",
          "output_type": "stream",
          "text": [
            "\rTraining:  14%|█▎        | 41/300 [07:17<46:46, 10.84s/it]"
          ]
        },
        {
          "name": "stdout",
          "output_type": "stream",
          "text": [
            "Epoch 41, Train Loss: 1.5681, Val Loss: 1.4497, Accuracy: 40.97%, F1: 0.3257\n"
          ]
        },
        {
          "name": "stderr",
          "output_type": "stream",
          "text": [
            "\rTraining:  14%|█▍        | 42/300 [07:28<46:37, 10.84s/it]"
          ]
        },
        {
          "name": "stdout",
          "output_type": "stream",
          "text": [
            "Epoch 42, Train Loss: 1.4633, Val Loss: 1.3068, Accuracy: 50.00%, F1: 0.4357\n",
            "New best F1: 0.4357 - saving model\n"
          ]
        },
        {
          "name": "stderr",
          "output_type": "stream",
          "text": [
            "\rTraining:  14%|█▍        | 43/300 [07:39<46:26, 10.84s/it]"
          ]
        },
        {
          "name": "stdout",
          "output_type": "stream",
          "text": [
            "Epoch 43, Train Loss: 1.3316, Val Loss: 1.2447, Accuracy: 50.69%, F1: 0.4111\n"
          ]
        },
        {
          "name": "stderr",
          "output_type": "stream",
          "text": [
            "\rTraining:  15%|█▍        | 44/300 [07:50<46:17, 10.85s/it]"
          ]
        },
        {
          "name": "stdout",
          "output_type": "stream",
          "text": [
            "Epoch 44, Train Loss: 1.2367, Val Loss: 1.2615, Accuracy: 54.86%, F1: 0.4926\n",
            "New best F1: 0.4926 - saving model\n"
          ]
        },
        {
          "name": "stderr",
          "output_type": "stream",
          "text": [
            "\rTraining:  15%|█▌        | 45/300 [08:01<46:10, 10.86s/it]"
          ]
        },
        {
          "name": "stdout",
          "output_type": "stream",
          "text": [
            "Epoch 45, Train Loss: 1.1450, Val Loss: 1.0520, Accuracy: 63.19%, F1: 0.5884\n",
            "New best F1: 0.5884 - saving model\n"
          ]
        },
        {
          "name": "stderr",
          "output_type": "stream",
          "text": [
            "\rTraining:  15%|█▌        | 46/300 [08:12<46:03, 10.88s/it]"
          ]
        },
        {
          "name": "stdout",
          "output_type": "stream",
          "text": [
            "Epoch 46, Train Loss: 1.0712, Val Loss: 0.9963, Accuracy: 62.50%, F1: 0.5869\n"
          ]
        },
        {
          "name": "stderr",
          "output_type": "stream",
          "text": [
            "\rTraining:  16%|█▌        | 47/300 [08:23<45:56, 10.89s/it]"
          ]
        },
        {
          "name": "stdout",
          "output_type": "stream",
          "text": [
            "Epoch 47, Train Loss: 0.9842, Val Loss: 0.9791, Accuracy: 53.47%, F1: 0.4784\n"
          ]
        },
        {
          "name": "stderr",
          "output_type": "stream",
          "text": [
            "\rTraining:  16%|█▌        | 48/300 [08:34<45:48, 10.91s/it]"
          ]
        },
        {
          "name": "stdout",
          "output_type": "stream",
          "text": [
            "Epoch 48, Train Loss: 0.9195, Val Loss: 0.9009, Accuracy: 70.83%, F1: 0.6802\n",
            "New best F1: 0.6802 - saving model\n"
          ]
        },
        {
          "name": "stderr",
          "output_type": "stream",
          "text": [
            "\rTraining:  16%|█▋        | 49/300 [08:44<45:39, 10.91s/it]"
          ]
        },
        {
          "name": "stdout",
          "output_type": "stream",
          "text": [
            "Epoch 49, Train Loss: 0.8726, Val Loss: 0.8302, Accuracy: 70.83%, F1: 0.6911\n",
            "New best F1: 0.6911 - saving model\n"
          ]
        },
        {
          "name": "stderr",
          "output_type": "stream",
          "text": [
            "\rTraining:  17%|█▋        | 50/300 [08:55<45:28, 10.91s/it]"
          ]
        },
        {
          "name": "stdout",
          "output_type": "stream",
          "text": [
            "Epoch 50, Train Loss: 0.8230, Val Loss: 0.8095, Accuracy: 76.39%, F1: 0.7468\n",
            "New best F1: 0.7468 - saving model\n"
          ]
        },
        {
          "name": "stderr",
          "output_type": "stream",
          "text": [
            "\rTraining:  17%|█▋        | 51/300 [09:06<45:17, 10.91s/it]"
          ]
        },
        {
          "name": "stdout",
          "output_type": "stream",
          "text": [
            "Epoch 51, Train Loss: 0.7868, Val Loss: 0.7680, Accuracy: 75.00%, F1: 0.7469\n",
            "New best F1: 0.7469 - saving model\n"
          ]
        },
        {
          "name": "stderr",
          "output_type": "stream",
          "text": [
            "\rTraining:  17%|█▋        | 52/300 [09:17<45:06, 10.91s/it]"
          ]
        },
        {
          "name": "stdout",
          "output_type": "stream",
          "text": [
            "Epoch 52, Train Loss: 0.7314, Val Loss: 0.7211, Accuracy: 79.17%, F1: 0.7759\n",
            "New best F1: 0.7759 - saving model\n"
          ]
        },
        {
          "name": "stderr",
          "output_type": "stream",
          "text": [
            "\rTraining:  18%|█▊        | 53/300 [09:28<44:54, 10.91s/it]"
          ]
        },
        {
          "name": "stdout",
          "output_type": "stream",
          "text": [
            "Epoch 53, Train Loss: 0.6749, Val Loss: 0.7386, Accuracy: 75.69%, F1: 0.7259\n"
          ]
        },
        {
          "name": "stderr",
          "output_type": "stream",
          "text": [
            "\rTraining:  18%|█▊        | 54/300 [09:39<44:42, 10.91s/it]"
          ]
        },
        {
          "name": "stdout",
          "output_type": "stream",
          "text": [
            "Epoch 54, Train Loss: 0.6627, Val Loss: 0.7696, Accuracy: 70.14%, F1: 0.6815\n"
          ]
        },
        {
          "name": "stderr",
          "output_type": "stream",
          "text": [
            "\rTraining:  18%|█▊        | 55/300 [09:50<44:31, 10.90s/it]"
          ]
        },
        {
          "name": "stdout",
          "output_type": "stream",
          "text": [
            "Epoch 55, Train Loss: 0.6515, Val Loss: 0.6276, Accuracy: 79.86%, F1: 0.7834\n",
            "New best F1: 0.7834 - saving model\n"
          ]
        },
        {
          "name": "stderr",
          "output_type": "stream",
          "text": [
            "\rTraining:  19%|█▊        | 56/300 [10:01<44:20, 10.90s/it]"
          ]
        },
        {
          "name": "stdout",
          "output_type": "stream",
          "text": [
            "Epoch 56, Train Loss: 0.6207, Val Loss: 0.6145, Accuracy: 80.56%, F1: 0.7857\n",
            "New best F1: 0.7857 - saving model\n"
          ]
        },
        {
          "name": "stderr",
          "output_type": "stream",
          "text": [
            "\rTraining:  19%|█▉        | 57/300 [10:12<44:09, 10.90s/it]"
          ]
        },
        {
          "name": "stdout",
          "output_type": "stream",
          "text": [
            "Epoch 57, Train Loss: 0.5791, Val Loss: 0.6608, Accuracy: 77.78%, F1: 0.7480\n"
          ]
        },
        {
          "name": "stderr",
          "output_type": "stream",
          "text": [
            "\rTraining:  19%|█▉        | 58/300 [10:23<43:58, 10.90s/it]"
          ]
        },
        {
          "name": "stdout",
          "output_type": "stream",
          "text": [
            "Epoch 58, Train Loss: 0.5659, Val Loss: 0.5867, Accuracy: 81.94%, F1: 0.7910\n",
            "New best F1: 0.7910 - saving model\n"
          ]
        },
        {
          "name": "stderr",
          "output_type": "stream",
          "text": [
            "\rTraining:  20%|█▉        | 59/300 [10:33<43:46, 10.90s/it]"
          ]
        },
        {
          "name": "stdout",
          "output_type": "stream",
          "text": [
            "Epoch 59, Train Loss: 0.5021, Val Loss: 0.5410, Accuracy: 81.94%, F1: 0.8110\n",
            "New best F1: 0.8110 - saving model\n"
          ]
        },
        {
          "name": "stderr",
          "output_type": "stream",
          "text": [
            "\rTraining:  20%|██        | 60/300 [10:44<43:36, 10.90s/it]"
          ]
        },
        {
          "name": "stdout",
          "output_type": "stream",
          "text": [
            "Epoch 60, Train Loss: 0.4867, Val Loss: 0.5830, Accuracy: 79.17%, F1: 0.7886\n"
          ]
        },
        {
          "name": "stderr",
          "output_type": "stream",
          "text": [
            "\rTraining:  20%|██        | 61/300 [10:55<43:25, 10.90s/it]"
          ]
        },
        {
          "name": "stdout",
          "output_type": "stream",
          "text": [
            "Epoch 61, Train Loss: 0.5077, Val Loss: 0.5065, Accuracy: 84.03%, F1: 0.8293\n",
            "New best F1: 0.8293 - saving model\n"
          ]
        },
        {
          "name": "stderr",
          "output_type": "stream",
          "text": [
            "\rTraining:  21%|██        | 62/300 [11:06<43:14, 10.90s/it]"
          ]
        },
        {
          "name": "stdout",
          "output_type": "stream",
          "text": [
            "Epoch 62, Train Loss: 0.4709, Val Loss: 0.5257, Accuracy: 83.33%, F1: 0.8250\n"
          ]
        },
        {
          "name": "stderr",
          "output_type": "stream",
          "text": [
            "\rTraining:  21%|██        | 63/300 [11:17<43:03, 10.90s/it]"
          ]
        },
        {
          "name": "stdout",
          "output_type": "stream",
          "text": [
            "Epoch 63, Train Loss: 0.4437, Val Loss: 0.4866, Accuracy: 85.42%, F1: 0.8429\n",
            "New best F1: 0.8429 - saving model\n"
          ]
        },
        {
          "name": "stderr",
          "output_type": "stream",
          "text": [
            "\rTraining:  21%|██▏       | 64/300 [11:28<42:52, 10.90s/it]"
          ]
        },
        {
          "name": "stdout",
          "output_type": "stream",
          "text": [
            "Epoch 64, Train Loss: 0.4351, Val Loss: 0.5063, Accuracy: 80.56%, F1: 0.8026\n"
          ]
        },
        {
          "name": "stderr",
          "output_type": "stream",
          "text": [
            "\rTraining:  22%|██▏       | 65/300 [11:39<42:41, 10.90s/it]"
          ]
        },
        {
          "name": "stdout",
          "output_type": "stream",
          "text": [
            "Epoch 65, Train Loss: 0.4309, Val Loss: 0.5236, Accuracy: 80.56%, F1: 0.7991\n"
          ]
        },
        {
          "name": "stderr",
          "output_type": "stream",
          "text": [
            "\rTraining:  22%|██▏       | 66/300 [11:50<42:30, 10.90s/it]"
          ]
        },
        {
          "name": "stdout",
          "output_type": "stream",
          "text": [
            "Epoch 66, Train Loss: 0.4397, Val Loss: 0.4527, Accuracy: 81.94%, F1: 0.8139\n"
          ]
        },
        {
          "name": "stderr",
          "output_type": "stream",
          "text": [
            "\rTraining:  22%|██▏       | 67/300 [12:01<42:18, 10.90s/it]"
          ]
        },
        {
          "name": "stdout",
          "output_type": "stream",
          "text": [
            "Epoch 67, Train Loss: 0.4078, Val Loss: 0.5136, Accuracy: 81.94%, F1: 0.7924\n"
          ]
        },
        {
          "name": "stderr",
          "output_type": "stream",
          "text": [
            "\rTraining:  23%|██▎       | 68/300 [12:12<42:07, 10.90s/it]"
          ]
        },
        {
          "name": "stdout",
          "output_type": "stream",
          "text": [
            "Epoch 68, Train Loss: 0.3757, Val Loss: 0.4666, Accuracy: 85.42%, F1: 0.8544\n",
            "New best F1: 0.8544 - saving model\n"
          ]
        },
        {
          "name": "stderr",
          "output_type": "stream",
          "text": [
            "\rTraining:  23%|██▎       | 69/300 [12:22<41:56, 10.89s/it]"
          ]
        },
        {
          "name": "stdout",
          "output_type": "stream",
          "text": [
            "Epoch 69, Train Loss: 0.3816, Val Loss: 0.5011, Accuracy: 81.25%, F1: 0.7989\n"
          ]
        },
        {
          "name": "stderr",
          "output_type": "stream",
          "text": [
            "\rTraining:  23%|██▎       | 70/300 [12:33<41:46, 10.90s/it]"
          ]
        },
        {
          "name": "stdout",
          "output_type": "stream",
          "text": [
            "Epoch 70, Train Loss: 0.3813, Val Loss: 0.5544, Accuracy: 81.25%, F1: 0.7885\n"
          ]
        },
        {
          "name": "stderr",
          "output_type": "stream",
          "text": [
            "\rTraining:  24%|██▎       | 71/300 [12:44<41:35, 10.90s/it]"
          ]
        },
        {
          "name": "stdout",
          "output_type": "stream",
          "text": [
            "Epoch 71, Train Loss: 0.3872, Val Loss: 0.4920, Accuracy: 83.33%, F1: 0.8305\n"
          ]
        },
        {
          "name": "stderr",
          "output_type": "stream",
          "text": [
            "\rTraining:  24%|██▍       | 72/300 [12:55<41:23, 10.89s/it]"
          ]
        },
        {
          "name": "stdout",
          "output_type": "stream",
          "text": [
            "Epoch 72, Train Loss: 0.3457, Val Loss: 0.4478, Accuracy: 85.42%, F1: 0.8480\n"
          ]
        },
        {
          "name": "stderr",
          "output_type": "stream",
          "text": [
            "\rTraining:  24%|██▍       | 73/300 [13:06<41:13, 10.90s/it]"
          ]
        },
        {
          "name": "stdout",
          "output_type": "stream",
          "text": [
            "Epoch 73, Train Loss: 0.3396, Val Loss: 0.4133, Accuracy: 86.11%, F1: 0.8580\n",
            "New best F1: 0.8580 - saving model\n"
          ]
        },
        {
          "name": "stderr",
          "output_type": "stream",
          "text": [
            "\rTraining:  25%|██▍       | 74/300 [13:17<41:01, 10.89s/it]"
          ]
        },
        {
          "name": "stdout",
          "output_type": "stream",
          "text": [
            "Epoch 74, Train Loss: 0.3652, Val Loss: 0.4091, Accuracy: 83.33%, F1: 0.8354\n"
          ]
        },
        {
          "name": "stderr",
          "output_type": "stream",
          "text": [
            "\rTraining:  25%|██▌       | 75/300 [13:28<40:50, 10.89s/it]"
          ]
        },
        {
          "name": "stdout",
          "output_type": "stream",
          "text": [
            "Epoch 75, Train Loss: 0.3231, Val Loss: 0.4143, Accuracy: 84.03%, F1: 0.8383\n"
          ]
        },
        {
          "name": "stderr",
          "output_type": "stream",
          "text": [
            "\rTraining:  25%|██▌       | 76/300 [13:39<40:39, 10.89s/it]"
          ]
        },
        {
          "name": "stdout",
          "output_type": "stream",
          "text": [
            "Epoch 76, Train Loss: 0.2992, Val Loss: 0.3943, Accuracy: 87.50%, F1: 0.8678\n",
            "New best F1: 0.8678 - saving model\n"
          ]
        },
        {
          "name": "stderr",
          "output_type": "stream",
          "text": [
            "\rTraining:  26%|██▌       | 77/300 [13:50<40:27, 10.88s/it]"
          ]
        },
        {
          "name": "stdout",
          "output_type": "stream",
          "text": [
            "Epoch 77, Train Loss: 0.2883, Val Loss: 0.3831, Accuracy: 86.81%, F1: 0.8633\n"
          ]
        },
        {
          "name": "stderr",
          "output_type": "stream",
          "text": [
            "\rTraining:  26%|██▌       | 78/300 [14:00<40:15, 10.88s/it]"
          ]
        },
        {
          "name": "stdout",
          "output_type": "stream",
          "text": [
            "Epoch 78, Train Loss: 0.2773, Val Loss: 0.4046, Accuracy: 88.89%, F1: 0.8864\n",
            "New best F1: 0.8864 - saving model\n"
          ]
        },
        {
          "name": "stderr",
          "output_type": "stream",
          "text": [
            "\rTraining:  26%|██▋       | 79/300 [14:11<40:03, 10.88s/it]"
          ]
        },
        {
          "name": "stdout",
          "output_type": "stream",
          "text": [
            "Epoch 79, Train Loss: 0.2734, Val Loss: 0.3735, Accuracy: 85.42%, F1: 0.8513\n"
          ]
        },
        {
          "name": "stderr",
          "output_type": "stream",
          "text": [
            "\rTraining:  27%|██▋       | 80/300 [14:22<39:52, 10.88s/it]"
          ]
        },
        {
          "name": "stdout",
          "output_type": "stream",
          "text": [
            "Epoch 80, Train Loss: 0.2820, Val Loss: 0.3706, Accuracy: 87.50%, F1: 0.8749\n"
          ]
        },
        {
          "name": "stderr",
          "output_type": "stream",
          "text": [
            "\rTraining:  27%|██▋       | 81/300 [14:33<39:41, 10.87s/it]"
          ]
        },
        {
          "name": "stdout",
          "output_type": "stream",
          "text": [
            "Epoch 81, Train Loss: 0.2744, Val Loss: 0.4194, Accuracy: 85.42%, F1: 0.8536\n"
          ]
        },
        {
          "name": "stderr",
          "output_type": "stream",
          "text": [
            "\rTraining:  27%|██▋       | 82/300 [14:44<39:29, 10.87s/it]"
          ]
        },
        {
          "name": "stdout",
          "output_type": "stream",
          "text": [
            "Epoch 82, Train Loss: 0.2622, Val Loss: 0.3956, Accuracy: 86.81%, F1: 0.8601\n"
          ]
        },
        {
          "name": "stderr",
          "output_type": "stream",
          "text": [
            "\rTraining:  28%|██▊       | 83/300 [14:55<39:17, 10.86s/it]"
          ]
        },
        {
          "name": "stdout",
          "output_type": "stream",
          "text": [
            "Epoch 83, Train Loss: 0.2510, Val Loss: 0.3531, Accuracy: 89.58%, F1: 0.8956\n",
            "New best F1: 0.8956 - saving model\n"
          ]
        },
        {
          "name": "stderr",
          "output_type": "stream",
          "text": [
            "\rTraining:  28%|██▊       | 84/300 [15:06<39:05, 10.86s/it]"
          ]
        },
        {
          "name": "stdout",
          "output_type": "stream",
          "text": [
            "Epoch 84, Train Loss: 0.2385, Val Loss: 0.3569, Accuracy: 87.50%, F1: 0.8733\n"
          ]
        },
        {
          "name": "stderr",
          "output_type": "stream",
          "text": [
            "\rTraining:  28%|██▊       | 85/300 [15:16<38:55, 10.86s/it]"
          ]
        },
        {
          "name": "stdout",
          "output_type": "stream",
          "text": [
            "Epoch 85, Train Loss: 0.2522, Val Loss: 0.3662, Accuracy: 86.11%, F1: 0.8602\n"
          ]
        },
        {
          "name": "stderr",
          "output_type": "stream",
          "text": [
            "\rTraining:  29%|██▊       | 86/300 [15:27<38:43, 10.86s/it]"
          ]
        },
        {
          "name": "stdout",
          "output_type": "stream",
          "text": [
            "Epoch 86, Train Loss: 0.2467, Val Loss: 0.3651, Accuracy: 86.11%, F1: 0.8578\n"
          ]
        },
        {
          "name": "stderr",
          "output_type": "stream",
          "text": [
            "\rTraining:  29%|██▉       | 87/300 [15:38<38:32, 10.86s/it]"
          ]
        },
        {
          "name": "stdout",
          "output_type": "stream",
          "text": [
            "Epoch 87, Train Loss: 0.2500, Val Loss: 0.3402, Accuracy: 88.89%, F1: 0.8884\n"
          ]
        },
        {
          "name": "stderr",
          "output_type": "stream",
          "text": [
            "\rTraining:  29%|██▉       | 88/300 [15:49<38:21, 10.85s/it]"
          ]
        },
        {
          "name": "stdout",
          "output_type": "stream",
          "text": [
            "Epoch 88, Train Loss: 0.2317, Val Loss: 0.3588, Accuracy: 88.19%, F1: 0.8792\n"
          ]
        },
        {
          "name": "stderr",
          "output_type": "stream",
          "text": [
            "\rTraining:  30%|██▉       | 89/300 [16:00<38:09, 10.85s/it]"
          ]
        },
        {
          "name": "stdout",
          "output_type": "stream",
          "text": [
            "Epoch 89, Train Loss: 0.2543, Val Loss: 0.3178, Accuracy: 88.89%, F1: 0.8880\n"
          ]
        },
        {
          "name": "stderr",
          "output_type": "stream",
          "text": [
            "\rTraining:  30%|███       | 90/300 [16:11<37:58, 10.85s/it]"
          ]
        },
        {
          "name": "stdout",
          "output_type": "stream",
          "text": [
            "Epoch 90, Train Loss: 0.2113, Val Loss: 0.3472, Accuracy: 88.89%, F1: 0.8889\n"
          ]
        },
        {
          "name": "stderr",
          "output_type": "stream",
          "text": [
            "\rTraining:  30%|███       | 91/300 [16:22<37:46, 10.85s/it]"
          ]
        },
        {
          "name": "stdout",
          "output_type": "stream",
          "text": [
            "Epoch 91, Train Loss: 0.2044, Val Loss: 0.3032, Accuracy: 91.67%, F1: 0.9158\n",
            "New best F1: 0.9158 - saving model\n"
          ]
        },
        {
          "name": "stderr",
          "output_type": "stream",
          "text": [
            "\rTraining:  31%|███       | 92/300 [16:32<37:35, 10.84s/it]"
          ]
        },
        {
          "name": "stdout",
          "output_type": "stream",
          "text": [
            "Epoch 92, Train Loss: 0.1899, Val Loss: 0.3100, Accuracy: 89.58%, F1: 0.8958\n"
          ]
        },
        {
          "name": "stderr",
          "output_type": "stream",
          "text": [
            "\rTraining:  31%|███       | 93/300 [16:43<37:24, 10.84s/it]"
          ]
        },
        {
          "name": "stdout",
          "output_type": "stream",
          "text": [
            "Epoch 93, Train Loss: 0.1862, Val Loss: 0.3003, Accuracy: 90.28%, F1: 0.9017\n"
          ]
        },
        {
          "name": "stderr",
          "output_type": "stream",
          "text": [
            "\rTraining:  31%|███▏      | 94/300 [16:54<37:13, 10.84s/it]"
          ]
        },
        {
          "name": "stdout",
          "output_type": "stream",
          "text": [
            "Epoch 94, Train Loss: 0.2089, Val Loss: 0.4044, Accuracy: 85.42%, F1: 0.8513\n"
          ]
        },
        {
          "name": "stderr",
          "output_type": "stream",
          "text": [
            "\rTraining:  32%|███▏      | 95/300 [17:05<37:02, 10.84s/it]"
          ]
        },
        {
          "name": "stdout",
          "output_type": "stream",
          "text": [
            "Epoch 95, Train Loss: 0.2184, Val Loss: 0.3280, Accuracy: 87.50%, F1: 0.8745\n"
          ]
        },
        {
          "name": "stderr",
          "output_type": "stream",
          "text": [
            "\rTraining:  32%|███▏      | 96/300 [17:16<36:52, 10.84s/it]"
          ]
        },
        {
          "name": "stdout",
          "output_type": "stream",
          "text": [
            "Epoch 96, Train Loss: 0.1975, Val Loss: 0.3235, Accuracy: 88.89%, F1: 0.8847\n"
          ]
        },
        {
          "name": "stderr",
          "output_type": "stream",
          "text": [
            "\rTraining:  32%|███▏      | 97/300 [17:27<36:41, 10.85s/it]"
          ]
        },
        {
          "name": "stdout",
          "output_type": "stream",
          "text": [
            "Epoch 97, Train Loss: 0.1858, Val Loss: 0.3924, Accuracy: 88.19%, F1: 0.8750\n"
          ]
        },
        {
          "name": "stderr",
          "output_type": "stream",
          "text": [
            "\rTraining:  33%|███▎      | 98/300 [17:37<36:31, 10.85s/it]"
          ]
        },
        {
          "name": "stdout",
          "output_type": "stream",
          "text": [
            "Epoch 98, Train Loss: 0.1656, Val Loss: 0.3212, Accuracy: 90.97%, F1: 0.9080\n"
          ]
        },
        {
          "name": "stderr",
          "output_type": "stream",
          "text": [
            "\rTraining:  33%|███▎      | 99/300 [17:48<36:21, 10.85s/it]"
          ]
        },
        {
          "name": "stdout",
          "output_type": "stream",
          "text": [
            "Epoch 99, Train Loss: 0.1682, Val Loss: 0.2735, Accuracy: 90.97%, F1: 0.9084\n"
          ]
        },
        {
          "name": "stderr",
          "output_type": "stream",
          "text": [
            "\rTraining:  33%|███▎      | 100/300 [17:59<36:10, 10.85s/it]"
          ]
        },
        {
          "name": "stdout",
          "output_type": "stream",
          "text": [
            "Epoch 100, Train Loss: 0.1747, Val Loss: 0.3699, Accuracy: 86.81%, F1: 0.8646\n"
          ]
        },
        {
          "name": "stderr",
          "output_type": "stream",
          "text": [
            "\rTraining:  34%|███▎      | 101/300 [18:10<35:59, 10.85s/it]"
          ]
        },
        {
          "name": "stdout",
          "output_type": "stream",
          "text": [
            "Epoch 101, Train Loss: 0.1591, Val Loss: 0.3590, Accuracy: 90.28%, F1: 0.8947\n"
          ]
        },
        {
          "name": "stderr",
          "output_type": "stream",
          "text": [
            "\rTraining:  34%|███▍      | 102/300 [18:21<35:48, 10.85s/it]"
          ]
        },
        {
          "name": "stdout",
          "output_type": "stream",
          "text": [
            "Epoch 102, Train Loss: 0.1611, Val Loss: 0.2808, Accuracy: 93.06%, F1: 0.9283\n",
            "New best F1: 0.9283 - saving model\n"
          ]
        },
        {
          "name": "stderr",
          "output_type": "stream",
          "text": [
            "\rTraining:  34%|███▍      | 103/300 [18:32<35:37, 10.85s/it]"
          ]
        },
        {
          "name": "stdout",
          "output_type": "stream",
          "text": [
            "Epoch 103, Train Loss: 0.1560, Val Loss: 0.3066, Accuracy: 90.28%, F1: 0.9002\n"
          ]
        },
        {
          "name": "stderr",
          "output_type": "stream",
          "text": [
            "\rTraining:  35%|███▍      | 104/300 [18:43<35:26, 10.85s/it]"
          ]
        },
        {
          "name": "stdout",
          "output_type": "stream",
          "text": [
            "Epoch 104, Train Loss: 0.1458, Val Loss: 0.3074, Accuracy: 91.67%, F1: 0.9155\n"
          ]
        },
        {
          "name": "stderr",
          "output_type": "stream",
          "text": [
            "\rTraining:  35%|███▌      | 105/300 [18:53<35:16, 10.85s/it]"
          ]
        },
        {
          "name": "stdout",
          "output_type": "stream",
          "text": [
            "Epoch 105, Train Loss: 0.1426, Val Loss: 0.2778, Accuracy: 91.67%, F1: 0.9149\n"
          ]
        },
        {
          "name": "stderr",
          "output_type": "stream",
          "text": [
            "\rTraining:  35%|███▌      | 106/300 [19:04<35:05, 10.85s/it]"
          ]
        },
        {
          "name": "stdout",
          "output_type": "stream",
          "text": [
            "Epoch 106, Train Loss: 0.1543, Val Loss: 0.2900, Accuracy: 91.67%, F1: 0.9152\n"
          ]
        },
        {
          "name": "stderr",
          "output_type": "stream",
          "text": [
            "\rTraining:  36%|███▌      | 107/300 [19:15<34:54, 10.85s/it]"
          ]
        },
        {
          "name": "stdout",
          "output_type": "stream",
          "text": [
            "Epoch 107, Train Loss: 0.1350, Val Loss: 0.3178, Accuracy: 88.89%, F1: 0.8841\n"
          ]
        },
        {
          "name": "stderr",
          "output_type": "stream",
          "text": [
            "\rTraining:  36%|███▌      | 108/300 [19:26<34:44, 10.86s/it]"
          ]
        },
        {
          "name": "stdout",
          "output_type": "stream",
          "text": [
            "Epoch 108, Train Loss: 0.1395, Val Loss: 0.2530, Accuracy: 91.67%, F1: 0.9149\n"
          ]
        },
        {
          "name": "stderr",
          "output_type": "stream",
          "text": [
            "\rTraining:  36%|███▋      | 109/300 [19:37<34:32, 10.85s/it]"
          ]
        },
        {
          "name": "stdout",
          "output_type": "stream",
          "text": [
            "Epoch 109, Train Loss: 0.1472, Val Loss: 0.2970, Accuracy: 90.97%, F1: 0.9089\n"
          ]
        },
        {
          "name": "stderr",
          "output_type": "stream",
          "text": [
            "\rTraining:  37%|███▋      | 110/300 [19:48<34:21, 10.85s/it]"
          ]
        },
        {
          "name": "stdout",
          "output_type": "stream",
          "text": [
            "Epoch 110, Train Loss: 0.1456, Val Loss: 0.3508, Accuracy: 89.58%, F1: 0.8949\n"
          ]
        },
        {
          "name": "stderr",
          "output_type": "stream",
          "text": [
            "\rTraining:  37%|███▋      | 111/300 [19:59<34:11, 10.85s/it]"
          ]
        },
        {
          "name": "stdout",
          "output_type": "stream",
          "text": [
            "Epoch 111, Train Loss: 0.2175, Val Loss: 0.3111, Accuracy: 88.89%, F1: 0.8880\n"
          ]
        },
        {
          "name": "stderr",
          "output_type": "stream",
          "text": [
            "\rTraining:  37%|███▋      | 112/300 [20:09<34:00, 10.85s/it]"
          ]
        },
        {
          "name": "stdout",
          "output_type": "stream",
          "text": [
            "Epoch 112, Train Loss: 0.1746, Val Loss: 0.3201, Accuracy: 87.50%, F1: 0.8729\n"
          ]
        },
        {
          "name": "stderr",
          "output_type": "stream",
          "text": [
            "\rTraining:  38%|███▊      | 113/300 [20:20<33:52, 10.87s/it]"
          ]
        },
        {
          "name": "stdout",
          "output_type": "stream",
          "text": [
            "Epoch 113, Train Loss: 0.1337, Val Loss: 0.2548, Accuracy: 92.36%, F1: 0.9220\n"
          ]
        },
        {
          "name": "stderr",
          "output_type": "stream",
          "text": [
            "\rTraining:  38%|███▊      | 114/300 [20:31<33:45, 10.89s/it]"
          ]
        },
        {
          "name": "stdout",
          "output_type": "stream",
          "text": [
            "Epoch 114, Train Loss: 0.1062, Val Loss: 0.2979, Accuracy: 90.28%, F1: 0.8978\n"
          ]
        },
        {
          "name": "stderr",
          "output_type": "stream",
          "text": [
            "\rTraining:  38%|███▊      | 115/300 [20:42<33:38, 10.91s/it]"
          ]
        },
        {
          "name": "stdout",
          "output_type": "stream",
          "text": [
            "Epoch 115, Train Loss: 0.1113, Val Loss: 0.2497, Accuracy: 93.06%, F1: 0.9290\n",
            "New best F1: 0.9290 - saving model\n"
          ]
        },
        {
          "name": "stderr",
          "output_type": "stream",
          "text": [
            "\rTraining:  39%|███▊      | 116/300 [20:53<33:28, 10.92s/it]"
          ]
        },
        {
          "name": "stdout",
          "output_type": "stream",
          "text": [
            "Epoch 116, Train Loss: 0.1150, Val Loss: 0.2894, Accuracy: 90.97%, F1: 0.9075\n"
          ]
        },
        {
          "name": "stderr",
          "output_type": "stream",
          "text": [
            "\rTraining:  39%|███▉      | 117/300 [21:04<33:18, 10.92s/it]"
          ]
        },
        {
          "name": "stdout",
          "output_type": "stream",
          "text": [
            "Epoch 117, Train Loss: 0.1118, Val Loss: 0.2624, Accuracy: 92.36%, F1: 0.9227\n"
          ]
        },
        {
          "name": "stderr",
          "output_type": "stream",
          "text": [
            "\rTraining:  39%|███▉      | 118/300 [21:15<33:06, 10.91s/it]"
          ]
        },
        {
          "name": "stdout",
          "output_type": "stream",
          "text": [
            "Epoch 118, Train Loss: 0.1078, Val Loss: 0.2606, Accuracy: 90.97%, F1: 0.9085\n"
          ]
        },
        {
          "name": "stderr",
          "output_type": "stream",
          "text": [
            "\rTraining:  40%|███▉      | 119/300 [21:26<32:54, 10.91s/it]"
          ]
        },
        {
          "name": "stdout",
          "output_type": "stream",
          "text": [
            "Epoch 119, Train Loss: 0.1054, Val Loss: 0.2740, Accuracy: 91.67%, F1: 0.9153\n"
          ]
        },
        {
          "name": "stderr",
          "output_type": "stream",
          "text": [
            "\rTraining:  40%|████      | 120/300 [21:37<32:42, 10.90s/it]"
          ]
        },
        {
          "name": "stdout",
          "output_type": "stream",
          "text": [
            "Epoch 120, Train Loss: 0.0986, Val Loss: 0.2611, Accuracy: 93.06%, F1: 0.9290\n"
          ]
        },
        {
          "name": "stderr",
          "output_type": "stream",
          "text": [
            "\rTraining:  40%|████      | 121/300 [21:48<32:32, 10.91s/it]"
          ]
        },
        {
          "name": "stdout",
          "output_type": "stream",
          "text": [
            "Epoch 121, Train Loss: 0.1259, Val Loss: 0.2959, Accuracy: 90.97%, F1: 0.9074\n"
          ]
        },
        {
          "name": "stderr",
          "output_type": "stream",
          "text": [
            "\rTraining:  41%|████      | 122/300 [21:59<32:21, 10.91s/it]"
          ]
        },
        {
          "name": "stdout",
          "output_type": "stream",
          "text": [
            "Epoch 122, Train Loss: 0.1022, Val Loss: 0.3680, Accuracy: 88.89%, F1: 0.8863\n"
          ]
        },
        {
          "name": "stderr",
          "output_type": "stream",
          "text": [
            "\rTraining:  41%|████      | 123/300 [22:10<32:11, 10.91s/it]"
          ]
        },
        {
          "name": "stdout",
          "output_type": "stream",
          "text": [
            "Epoch 123, Train Loss: 0.1063, Val Loss: 0.2835, Accuracy: 91.67%, F1: 0.9153\n"
          ]
        },
        {
          "name": "stderr",
          "output_type": "stream",
          "text": [
            "\rTraining:  41%|████▏     | 124/300 [22:20<32:00, 10.91s/it]"
          ]
        },
        {
          "name": "stdout",
          "output_type": "stream",
          "text": [
            "Epoch 124, Train Loss: 0.0893, Val Loss: 0.2440, Accuracy: 92.36%, F1: 0.9222\n"
          ]
        },
        {
          "name": "stderr",
          "output_type": "stream",
          "text": [
            "\rTraining:  42%|████▏     | 125/300 [22:31<31:50, 10.92s/it]"
          ]
        },
        {
          "name": "stdout",
          "output_type": "stream",
          "text": [
            "Epoch 125, Train Loss: 0.0893, Val Loss: 0.2740, Accuracy: 92.36%, F1: 0.9220\n"
          ]
        },
        {
          "name": "stderr",
          "output_type": "stream",
          "text": [
            "\rTraining:  42%|████▏     | 126/300 [22:42<31:40, 10.92s/it]"
          ]
        },
        {
          "name": "stdout",
          "output_type": "stream",
          "text": [
            "Epoch 126, Train Loss: 0.0919, Val Loss: 0.2943, Accuracy: 93.06%, F1: 0.9276\n"
          ]
        },
        {
          "name": "stderr",
          "output_type": "stream",
          "text": [
            "\rTraining:  42%|████▏     | 127/300 [22:53<31:31, 10.93s/it]"
          ]
        },
        {
          "name": "stdout",
          "output_type": "stream",
          "text": [
            "Epoch 127, Train Loss: 0.0913, Val Loss: 0.2725, Accuracy: 91.67%, F1: 0.9152\n"
          ]
        },
        {
          "name": "stderr",
          "output_type": "stream",
          "text": [
            "\rTraining:  43%|████▎     | 128/300 [23:04<31:20, 10.94s/it]"
          ]
        },
        {
          "name": "stdout",
          "output_type": "stream",
          "text": [
            "Epoch 128, Train Loss: 0.0760, Val Loss: 0.2458, Accuracy: 92.36%, F1: 0.9234\n"
          ]
        },
        {
          "name": "stderr",
          "output_type": "stream",
          "text": [
            "\rTraining:  43%|████▎     | 129/300 [23:15<31:10, 10.94s/it]"
          ]
        },
        {
          "name": "stdout",
          "output_type": "stream",
          "text": [
            "Epoch 129, Train Loss: 0.0991, Val Loss: 0.2613, Accuracy: 92.36%, F1: 0.9221\n"
          ]
        },
        {
          "name": "stderr",
          "output_type": "stream",
          "text": [
            "\rTraining:  43%|████▎     | 130/300 [23:26<31:00, 10.94s/it]"
          ]
        },
        {
          "name": "stdout",
          "output_type": "stream",
          "text": [
            "Epoch 130, Train Loss: 0.0745, Val Loss: 0.2620, Accuracy: 93.06%, F1: 0.9291\n",
            "New best F1: 0.9291 - saving model\n"
          ]
        },
        {
          "name": "stderr",
          "output_type": "stream",
          "text": [
            "\rTraining:  44%|████▎     | 131/300 [23:37<30:49, 10.94s/it]"
          ]
        },
        {
          "name": "stdout",
          "output_type": "stream",
          "text": [
            "Epoch 131, Train Loss: 0.0752, Val Loss: 0.2549, Accuracy: 91.67%, F1: 0.9152\n"
          ]
        },
        {
          "name": "stderr",
          "output_type": "stream",
          "text": [
            "\rTraining:  44%|████▍     | 132/300 [23:48<30:38, 10.94s/it]"
          ]
        },
        {
          "name": "stdout",
          "output_type": "stream",
          "text": [
            "Epoch 132, Train Loss: 0.0765, Val Loss: 0.3346, Accuracy: 90.28%, F1: 0.9017\n"
          ]
        },
        {
          "name": "stderr",
          "output_type": "stream",
          "text": [
            "\rTraining:  44%|████▍     | 133/300 [23:59<30:27, 10.94s/it]"
          ]
        },
        {
          "name": "stdout",
          "output_type": "stream",
          "text": [
            "Epoch 133, Train Loss: 0.1069, Val Loss: 0.2670, Accuracy: 93.06%, F1: 0.9290\n"
          ]
        },
        {
          "name": "stderr",
          "output_type": "stream",
          "text": [
            "\rTraining:  45%|████▍     | 134/300 [24:10<30:15, 10.94s/it]"
          ]
        },
        {
          "name": "stdout",
          "output_type": "stream",
          "text": [
            "Epoch 134, Train Loss: 0.1070, Val Loss: 0.2685, Accuracy: 92.36%, F1: 0.9222\n"
          ]
        },
        {
          "name": "stderr",
          "output_type": "stream",
          "text": [
            "\rTraining:  45%|████▌     | 135/300 [24:21<30:03, 10.93s/it]"
          ]
        },
        {
          "name": "stdout",
          "output_type": "stream",
          "text": [
            "Epoch 135, Train Loss: 0.0654, Val Loss: 0.2610, Accuracy: 92.36%, F1: 0.9222\n"
          ]
        },
        {
          "name": "stderr",
          "output_type": "stream",
          "text": [
            "\rTraining:  45%|████▌     | 136/300 [24:32<29:52, 10.93s/it]"
          ]
        },
        {
          "name": "stdout",
          "output_type": "stream",
          "text": [
            "Epoch 136, Train Loss: 0.0708, Val Loss: 0.2708, Accuracy: 91.67%, F1: 0.9154\n"
          ]
        },
        {
          "name": "stderr",
          "output_type": "stream",
          "text": [
            "\rTraining:  46%|████▌     | 137/300 [24:43<29:41, 10.93s/it]"
          ]
        },
        {
          "name": "stdout",
          "output_type": "stream",
          "text": [
            "Epoch 137, Train Loss: 0.0598, Val Loss: 0.2517, Accuracy: 93.06%, F1: 0.9290\n"
          ]
        },
        {
          "name": "stderr",
          "output_type": "stream",
          "text": [
            "\rTraining:  46%|████▌     | 138/300 [24:54<29:29, 10.93s/it]"
          ]
        },
        {
          "name": "stdout",
          "output_type": "stream",
          "text": [
            "Epoch 138, Train Loss: 0.0658, Val Loss: 0.2496, Accuracy: 93.06%, F1: 0.9290\n"
          ]
        },
        {
          "name": "stderr",
          "output_type": "stream",
          "text": [
            "\rTraining:  46%|████▋     | 139/300 [25:04<29:18, 10.92s/it]"
          ]
        },
        {
          "name": "stdout",
          "output_type": "stream",
          "text": [
            "Epoch 139, Train Loss: 0.0744, Val Loss: 0.2969, Accuracy: 90.97%, F1: 0.9076\n"
          ]
        },
        {
          "name": "stderr",
          "output_type": "stream",
          "text": [
            "\rTraining:  47%|████▋     | 140/300 [25:15<29:06, 10.92s/it]"
          ]
        },
        {
          "name": "stdout",
          "output_type": "stream",
          "text": [
            "Epoch 140, Train Loss: 0.0750, Val Loss: 0.3092, Accuracy: 93.06%, F1: 0.9284\n"
          ]
        },
        {
          "name": "stderr",
          "output_type": "stream",
          "text": [
            "\rTraining:  47%|████▋     | 141/300 [25:26<28:54, 10.91s/it]"
          ]
        },
        {
          "name": "stdout",
          "output_type": "stream",
          "text": [
            "Epoch 141, Train Loss: 0.0721, Val Loss: 0.2829, Accuracy: 91.67%, F1: 0.9148\n"
          ]
        },
        {
          "name": "stderr",
          "output_type": "stream",
          "text": [
            "\rTraining:  47%|████▋     | 142/300 [25:37<28:42, 10.90s/it]"
          ]
        },
        {
          "name": "stdout",
          "output_type": "stream",
          "text": [
            "Epoch 142, Train Loss: 0.0685, Val Loss: 0.2656, Accuracy: 93.06%, F1: 0.9302\n",
            "New best F1: 0.9302 - saving model\n"
          ]
        },
        {
          "name": "stderr",
          "output_type": "stream",
          "text": [
            "\rTraining:  48%|████▊     | 143/300 [25:48<28:30, 10.89s/it]"
          ]
        },
        {
          "name": "stdout",
          "output_type": "stream",
          "text": [
            "Epoch 143, Train Loss: 0.0644, Val Loss: 0.2630, Accuracy: 90.97%, F1: 0.9079\n"
          ]
        },
        {
          "name": "stderr",
          "output_type": "stream",
          "text": [
            "\rTraining:  48%|████▊     | 144/300 [25:59<28:19, 10.89s/it]"
          ]
        },
        {
          "name": "stdout",
          "output_type": "stream",
          "text": [
            "Epoch 144, Train Loss: 0.0845, Val Loss: 0.2782, Accuracy: 92.36%, F1: 0.9213\n"
          ]
        },
        {
          "name": "stderr",
          "output_type": "stream",
          "text": [
            "\rTraining:  48%|████▊     | 145/300 [26:10<28:07, 10.89s/it]"
          ]
        },
        {
          "name": "stdout",
          "output_type": "stream",
          "text": [
            "Epoch 145, Train Loss: 0.0628, Val Loss: 0.2552, Accuracy: 93.06%, F1: 0.9290\n"
          ]
        },
        {
          "name": "stderr",
          "output_type": "stream",
          "text": [
            "\rTraining:  49%|████▊     | 146/300 [26:21<27:55, 10.88s/it]"
          ]
        },
        {
          "name": "stdout",
          "output_type": "stream",
          "text": [
            "Epoch 146, Train Loss: 0.0528, Val Loss: 0.2729, Accuracy: 93.75%, F1: 0.9366\n",
            "New best F1: 0.9366 - saving model\n"
          ]
        },
        {
          "name": "stderr",
          "output_type": "stream",
          "text": [
            "\rTraining:  49%|████▉     | 147/300 [26:31<27:43, 10.87s/it]"
          ]
        },
        {
          "name": "stdout",
          "output_type": "stream",
          "text": [
            "Epoch 147, Train Loss: 0.0556, Val Loss: 0.3056, Accuracy: 91.67%, F1: 0.9151\n"
          ]
        },
        {
          "name": "stderr",
          "output_type": "stream",
          "text": [
            "\rTraining:  49%|████▉     | 148/300 [26:42<27:31, 10.87s/it]"
          ]
        },
        {
          "name": "stdout",
          "output_type": "stream",
          "text": [
            "Epoch 148, Train Loss: 0.0535, Val Loss: 0.2650, Accuracy: 93.06%, F1: 0.9286\n"
          ]
        },
        {
          "name": "stderr",
          "output_type": "stream",
          "text": [
            "\rTraining:  50%|████▉     | 149/300 [26:53<27:20, 10.87s/it]"
          ]
        },
        {
          "name": "stdout",
          "output_type": "stream",
          "text": [
            "Epoch 149, Train Loss: 0.0669, Val Loss: 0.2901, Accuracy: 92.36%, F1: 0.9238\n"
          ]
        },
        {
          "name": "stderr",
          "output_type": "stream",
          "text": [
            "\rTraining:  50%|█████     | 150/300 [27:04<27:09, 10.86s/it]"
          ]
        },
        {
          "name": "stdout",
          "output_type": "stream",
          "text": [
            "Epoch 150, Train Loss: 0.0480, Val Loss: 0.2472, Accuracy: 93.06%, F1: 0.9290\n"
          ]
        },
        {
          "name": "stderr",
          "output_type": "stream",
          "text": [
            "\rTraining:  50%|█████     | 151/300 [27:15<26:58, 10.86s/it]"
          ]
        },
        {
          "name": "stdout",
          "output_type": "stream",
          "text": [
            "Epoch 151, Train Loss: 0.0445, Val Loss: 0.2616, Accuracy: 93.06%, F1: 0.9290\n"
          ]
        },
        {
          "name": "stderr",
          "output_type": "stream",
          "text": [
            "\rTraining:  51%|█████     | 152/300 [27:26<26:47, 10.86s/it]"
          ]
        },
        {
          "name": "stdout",
          "output_type": "stream",
          "text": [
            "Epoch 152, Train Loss: 0.0440, Val Loss: 0.2664, Accuracy: 93.06%, F1: 0.9288\n"
          ]
        },
        {
          "name": "stderr",
          "output_type": "stream",
          "text": [
            "\rTraining:  51%|█████     | 153/300 [27:37<26:35, 10.86s/it]"
          ]
        },
        {
          "name": "stdout",
          "output_type": "stream",
          "text": [
            "Epoch 153, Train Loss: 0.0476, Val Loss: 0.2644, Accuracy: 92.36%, F1: 0.9222\n"
          ]
        },
        {
          "name": "stderr",
          "output_type": "stream",
          "text": [
            "\rTraining:  51%|█████▏    | 154/300 [27:47<26:24, 10.85s/it]"
          ]
        },
        {
          "name": "stdout",
          "output_type": "stream",
          "text": [
            "Epoch 154, Train Loss: 0.0420, Val Loss: 0.2515, Accuracy: 93.06%, F1: 0.9290\n"
          ]
        },
        {
          "name": "stderr",
          "output_type": "stream",
          "text": [
            "\rTraining:  52%|█████▏    | 155/300 [27:58<26:14, 10.86s/it]"
          ]
        },
        {
          "name": "stdout",
          "output_type": "stream",
          "text": [
            "Epoch 155, Train Loss: 0.0505, Val Loss: 0.2428, Accuracy: 93.06%, F1: 0.9298\n"
          ]
        },
        {
          "name": "stderr",
          "output_type": "stream",
          "text": [
            "\rTraining:  52%|█████▏    | 156/300 [28:09<26:03, 10.85s/it]"
          ]
        },
        {
          "name": "stdout",
          "output_type": "stream",
          "text": [
            "Epoch 156, Train Loss: 0.0473, Val Loss: 0.2691, Accuracy: 91.67%, F1: 0.9151\n"
          ]
        },
        {
          "name": "stderr",
          "output_type": "stream",
          "text": [
            "\rTraining:  52%|█████▏    | 157/300 [28:20<25:52, 10.86s/it]"
          ]
        },
        {
          "name": "stdout",
          "output_type": "stream",
          "text": [
            "Epoch 157, Train Loss: 0.0418, Val Loss: 0.2822, Accuracy: 93.06%, F1: 0.9288\n"
          ]
        },
        {
          "name": "stderr",
          "output_type": "stream",
          "text": [
            "\rTraining:  53%|█████▎    | 158/300 [28:31<25:40, 10.85s/it]"
          ]
        },
        {
          "name": "stdout",
          "output_type": "stream",
          "text": [
            "Epoch 158, Train Loss: 0.0416, Val Loss: 0.2641, Accuracy: 92.36%, F1: 0.9222\n"
          ]
        },
        {
          "name": "stderr",
          "output_type": "stream",
          "text": [
            "\rTraining:  53%|█████▎    | 159/300 [28:42<25:29, 10.85s/it]"
          ]
        },
        {
          "name": "stdout",
          "output_type": "stream",
          "text": [
            "Epoch 159, Train Loss: 0.0354, Val Loss: 0.2473, Accuracy: 93.75%, F1: 0.9360\n"
          ]
        },
        {
          "name": "stderr",
          "output_type": "stream",
          "text": [
            "\rTraining:  53%|█████▎    | 160/300 [28:53<25:18, 10.85s/it]"
          ]
        },
        {
          "name": "stdout",
          "output_type": "stream",
          "text": [
            "Epoch 160, Train Loss: 0.0356, Val Loss: 0.2489, Accuracy: 93.06%, F1: 0.9290\n"
          ]
        },
        {
          "name": "stderr",
          "output_type": "stream",
          "text": [
            "\rTraining:  54%|█████▎    | 161/300 [29:03<25:08, 10.85s/it]"
          ]
        },
        {
          "name": "stdout",
          "output_type": "stream",
          "text": [
            "Epoch 161, Train Loss: 0.0313, Val Loss: 0.2548, Accuracy: 92.36%, F1: 0.9220\n"
          ]
        },
        {
          "name": "stderr",
          "output_type": "stream",
          "text": [
            "\rTraining:  54%|█████▍    | 162/300 [29:14<24:57, 10.85s/it]"
          ]
        },
        {
          "name": "stdout",
          "output_type": "stream",
          "text": [
            "Epoch 162, Train Loss: 0.0548, Val Loss: 0.2671, Accuracy: 90.97%, F1: 0.9081\n"
          ]
        },
        {
          "name": "stderr",
          "output_type": "stream",
          "text": [
            "\rTraining:  54%|█████▍    | 163/300 [29:25<24:46, 10.85s/it]"
          ]
        },
        {
          "name": "stdout",
          "output_type": "stream",
          "text": [
            "Epoch 163, Train Loss: 0.0535, Val Loss: 0.2408, Accuracy: 93.06%, F1: 0.9310\n"
          ]
        },
        {
          "name": "stderr",
          "output_type": "stream",
          "text": [
            "\rTraining:  55%|█████▍    | 164/300 [29:36<24:36, 10.85s/it]"
          ]
        },
        {
          "name": "stdout",
          "output_type": "stream",
          "text": [
            "Epoch 164, Train Loss: 0.0346, Val Loss: 0.2910, Accuracy: 92.36%, F1: 0.9220\n"
          ]
        },
        {
          "name": "stderr",
          "output_type": "stream",
          "text": [
            "\rTraining:  55%|█████▌    | 165/300 [29:47<24:25, 10.85s/it]"
          ]
        },
        {
          "name": "stdout",
          "output_type": "stream",
          "text": [
            "Epoch 165, Train Loss: 0.0544, Val Loss: 0.2901, Accuracy: 92.36%, F1: 0.9229\n"
          ]
        },
        {
          "name": "stderr",
          "output_type": "stream",
          "text": [
            "\rTraining:  55%|█████▌    | 166/300 [29:58<24:14, 10.86s/it]"
          ]
        },
        {
          "name": "stdout",
          "output_type": "stream",
          "text": [
            "Epoch 166, Train Loss: 0.0448, Val Loss: 0.3050, Accuracy: 92.36%, F1: 0.9225\n"
          ]
        },
        {
          "name": "stderr",
          "output_type": "stream",
          "text": [
            "\rTraining:  56%|█████▌    | 167/300 [30:09<24:03, 10.85s/it]"
          ]
        },
        {
          "name": "stdout",
          "output_type": "stream",
          "text": [
            "Epoch 167, Train Loss: 0.0601, Val Loss: 0.6511, Accuracy: 83.33%, F1: 0.8271\n"
          ]
        },
        {
          "name": "stderr",
          "output_type": "stream",
          "text": [
            "\rTraining:  56%|█████▌    | 168/300 [30:19<23:52, 10.85s/it]"
          ]
        },
        {
          "name": "stdout",
          "output_type": "stream",
          "text": [
            "Epoch 168, Train Loss: 0.1299, Val Loss: 0.3301, Accuracy: 91.67%, F1: 0.9158\n"
          ]
        },
        {
          "name": "stderr",
          "output_type": "stream",
          "text": [
            "\rTraining:  56%|█████▋    | 169/300 [30:30<23:41, 10.85s/it]"
          ]
        },
        {
          "name": "stdout",
          "output_type": "stream",
          "text": [
            "Epoch 169, Train Loss: 0.0724, Val Loss: 0.2558, Accuracy: 94.44%, F1: 0.9437\n",
            "New best F1: 0.9437 - saving model\n"
          ]
        },
        {
          "name": "stderr",
          "output_type": "stream",
          "text": [
            "\rTraining:  57%|█████▋    | 170/300 [30:41<23:30, 10.85s/it]"
          ]
        },
        {
          "name": "stdout",
          "output_type": "stream",
          "text": [
            "Epoch 170, Train Loss: 0.0386, Val Loss: 0.3028, Accuracy: 90.28%, F1: 0.9002\n"
          ]
        },
        {
          "name": "stderr",
          "output_type": "stream",
          "text": [
            "\rTraining:  57%|█████▋    | 171/300 [30:52<23:19, 10.85s/it]"
          ]
        },
        {
          "name": "stdout",
          "output_type": "stream",
          "text": [
            "Epoch 171, Train Loss: 0.0597, Val Loss: 0.2987, Accuracy: 92.36%, F1: 0.9220\n"
          ]
        },
        {
          "name": "stderr",
          "output_type": "stream",
          "text": [
            "\rTraining:  57%|█████▋    | 172/300 [31:03<23:08, 10.85s/it]"
          ]
        },
        {
          "name": "stdout",
          "output_type": "stream",
          "text": [
            "Epoch 172, Train Loss: 0.0422, Val Loss: 0.2426, Accuracy: 93.75%, F1: 0.9368\n"
          ]
        },
        {
          "name": "stderr",
          "output_type": "stream",
          "text": [
            "\rTraining:  58%|█████▊    | 173/300 [31:14<22:58, 10.85s/it]"
          ]
        },
        {
          "name": "stdout",
          "output_type": "stream",
          "text": [
            "Epoch 173, Train Loss: 0.0439, Val Loss: 0.2561, Accuracy: 94.44%, F1: 0.9442\n",
            "New best F1: 0.9442 - saving model\n"
          ]
        },
        {
          "name": "stderr",
          "output_type": "stream",
          "text": [
            "\rTraining:  58%|█████▊    | 174/300 [31:24<22:46, 10.85s/it]"
          ]
        },
        {
          "name": "stdout",
          "output_type": "stream",
          "text": [
            "Epoch 174, Train Loss: 0.0271, Val Loss: 0.2796, Accuracy: 90.97%, F1: 0.9081\n"
          ]
        },
        {
          "name": "stderr",
          "output_type": "stream",
          "text": [
            "\rTraining:  58%|█████▊    | 175/300 [31:35<22:36, 10.85s/it]"
          ]
        },
        {
          "name": "stdout",
          "output_type": "stream",
          "text": [
            "Epoch 175, Train Loss: 0.0261, Val Loss: 0.2518, Accuracy: 93.06%, F1: 0.9284\n"
          ]
        },
        {
          "name": "stderr",
          "output_type": "stream",
          "text": [
            "\rTraining:  59%|█████▊    | 176/300 [31:46<22:25, 10.85s/it]"
          ]
        },
        {
          "name": "stdout",
          "output_type": "stream",
          "text": [
            "Epoch 176, Train Loss: 0.0285, Val Loss: 0.2555, Accuracy: 92.36%, F1: 0.9216\n"
          ]
        },
        {
          "name": "stderr",
          "output_type": "stream",
          "text": [
            "\rTraining:  59%|█████▉    | 177/300 [31:57<22:14, 10.85s/it]"
          ]
        },
        {
          "name": "stdout",
          "output_type": "stream",
          "text": [
            "Epoch 177, Train Loss: 0.0305, Val Loss: 0.2882, Accuracy: 93.06%, F1: 0.9310\n"
          ]
        },
        {
          "name": "stderr",
          "output_type": "stream",
          "text": [
            "\rTraining:  59%|█████▉    | 178/300 [32:08<22:04, 10.86s/it]"
          ]
        },
        {
          "name": "stdout",
          "output_type": "stream",
          "text": [
            "Epoch 178, Train Loss: 0.0286, Val Loss: 0.2714, Accuracy: 93.06%, F1: 0.9290\n"
          ]
        },
        {
          "name": "stderr",
          "output_type": "stream",
          "text": [
            "\rTraining:  60%|█████▉    | 179/300 [32:19<21:53, 10.86s/it]"
          ]
        },
        {
          "name": "stdout",
          "output_type": "stream",
          "text": [
            "Epoch 179, Train Loss: 0.0218, Val Loss: 0.2676, Accuracy: 94.44%, F1: 0.9449\n",
            "New best F1: 0.9449 - saving model\n"
          ]
        },
        {
          "name": "stderr",
          "output_type": "stream",
          "text": [
            "\rTraining:  60%|██████    | 180/300 [32:30<21:43, 10.86s/it]"
          ]
        },
        {
          "name": "stdout",
          "output_type": "stream",
          "text": [
            "Epoch 180, Train Loss: 0.0230, Val Loss: 0.2426, Accuracy: 93.75%, F1: 0.9358\n"
          ]
        },
        {
          "name": "stderr",
          "output_type": "stream",
          "text": [
            "\rTraining:  60%|██████    | 181/300 [32:41<21:34, 10.88s/it]"
          ]
        },
        {
          "name": "stdout",
          "output_type": "stream",
          "text": [
            "Epoch 181, Train Loss: 0.0209, Val Loss: 0.2831, Accuracy: 93.75%, F1: 0.9358\n"
          ]
        },
        {
          "name": "stderr",
          "output_type": "stream",
          "text": [
            "\rTraining:  61%|██████    | 182/300 [32:51<21:25, 10.89s/it]"
          ]
        },
        {
          "name": "stdout",
          "output_type": "stream",
          "text": [
            "Epoch 182, Train Loss: 0.0208, Val Loss: 0.2527, Accuracy: 93.75%, F1: 0.9358\n"
          ]
        },
        {
          "name": "stderr",
          "output_type": "stream",
          "text": [
            "\rTraining:  61%|██████    | 183/300 [33:02<21:16, 10.91s/it]"
          ]
        },
        {
          "name": "stdout",
          "output_type": "stream",
          "text": [
            "Epoch 183, Train Loss: 0.0218, Val Loss: 0.2939, Accuracy: 93.75%, F1: 0.9378\n"
          ]
        },
        {
          "name": "stderr",
          "output_type": "stream",
          "text": [
            "\rTraining:  61%|██████▏   | 184/300 [33:13<21:05, 10.91s/it]"
          ]
        },
        {
          "name": "stdout",
          "output_type": "stream",
          "text": [
            "Epoch 184, Train Loss: 0.0232, Val Loss: 0.2863, Accuracy: 93.75%, F1: 0.9378\n"
          ]
        },
        {
          "name": "stderr",
          "output_type": "stream",
          "text": [
            "\rTraining:  62%|██████▏   | 185/300 [33:24<20:55, 10.92s/it]"
          ]
        },
        {
          "name": "stdout",
          "output_type": "stream",
          "text": [
            "Epoch 185, Train Loss: 0.0209, Val Loss: 0.2745, Accuracy: 93.75%, F1: 0.9358\n"
          ]
        },
        {
          "name": "stderr",
          "output_type": "stream",
          "text": [
            "\rTraining:  62%|██████▏   | 186/300 [33:35<20:44, 10.92s/it]"
          ]
        },
        {
          "name": "stdout",
          "output_type": "stream",
          "text": [
            "Epoch 186, Train Loss: 0.0199, Val Loss: 0.2729, Accuracy: 93.75%, F1: 0.9373\n"
          ]
        },
        {
          "name": "stderr",
          "output_type": "stream",
          "text": [
            "\rTraining:  62%|██████▏   | 187/300 [33:46<20:34, 10.92s/it]"
          ]
        },
        {
          "name": "stdout",
          "output_type": "stream",
          "text": [
            "Epoch 187, Train Loss: 0.0254, Val Loss: 0.2695, Accuracy: 93.06%, F1: 0.9287\n"
          ]
        },
        {
          "name": "stderr",
          "output_type": "stream",
          "text": [
            "\rTraining:  63%|██████▎   | 188/300 [33:57<20:23, 10.92s/it]"
          ]
        },
        {
          "name": "stdout",
          "output_type": "stream",
          "text": [
            "Epoch 188, Train Loss: 0.0195, Val Loss: 0.2596, Accuracy: 93.75%, F1: 0.9378\n"
          ]
        },
        {
          "name": "stderr",
          "output_type": "stream",
          "text": [
            "\rTraining:  63%|██████▎   | 189/300 [34:08<20:11, 10.92s/it]"
          ]
        },
        {
          "name": "stdout",
          "output_type": "stream",
          "text": [
            "Epoch 189, Train Loss: 0.0171, Val Loss: 0.2748, Accuracy: 92.36%, F1: 0.9237\n"
          ]
        },
        {
          "name": "stderr",
          "output_type": "stream",
          "text": [
            "\rTraining:  63%|██████▎   | 190/300 [34:19<20:00, 10.92s/it]"
          ]
        },
        {
          "name": "stdout",
          "output_type": "stream",
          "text": [
            "Epoch 190, Train Loss: 0.0174, Val Loss: 0.2837, Accuracy: 94.44%, F1: 0.9449\n"
          ]
        },
        {
          "name": "stderr",
          "output_type": "stream",
          "text": [
            "\rTraining:  64%|██████▎   | 191/300 [34:30<19:49, 10.92s/it]"
          ]
        },
        {
          "name": "stdout",
          "output_type": "stream",
          "text": [
            "Epoch 191, Train Loss: 0.0167, Val Loss: 0.3547, Accuracy: 90.28%, F1: 0.8986\n"
          ]
        },
        {
          "name": "stderr",
          "output_type": "stream",
          "text": [
            "\rTraining:  64%|██████▍   | 192/300 [34:41<19:38, 10.92s/it]"
          ]
        },
        {
          "name": "stdout",
          "output_type": "stream",
          "text": [
            "Epoch 192, Train Loss: 0.0440, Val Loss: 0.2980, Accuracy: 91.67%, F1: 0.9133\n"
          ]
        },
        {
          "name": "stderr",
          "output_type": "stream",
          "text": [
            "\rTraining:  64%|██████▍   | 193/300 [34:52<19:27, 10.91s/it]"
          ]
        },
        {
          "name": "stdout",
          "output_type": "stream",
          "text": [
            "Epoch 193, Train Loss: 0.0211, Val Loss: 0.2840, Accuracy: 93.06%, F1: 0.9290\n"
          ]
        },
        {
          "name": "stderr",
          "output_type": "stream",
          "text": [
            "\rTraining:  65%|██████▍   | 194/300 [35:03<19:16, 10.91s/it]"
          ]
        },
        {
          "name": "stdout",
          "output_type": "stream",
          "text": [
            "Epoch 194, Train Loss: 0.0386, Val Loss: 0.2824, Accuracy: 95.83%, F1: 0.9585\n",
            "New best F1: 0.9585 - saving model\n"
          ]
        },
        {
          "name": "stderr",
          "output_type": "stream",
          "text": [
            "\rTraining:  65%|██████▌   | 195/300 [35:13<19:05, 10.91s/it]"
          ]
        },
        {
          "name": "stdout",
          "output_type": "stream",
          "text": [
            "Epoch 195, Train Loss: 0.0197, Val Loss: 0.2524, Accuracy: 94.44%, F1: 0.9451\n"
          ]
        },
        {
          "name": "stderr",
          "output_type": "stream",
          "text": [
            "\rTraining:  65%|██████▌   | 196/300 [35:24<18:54, 10.91s/it]"
          ]
        },
        {
          "name": "stdout",
          "output_type": "stream",
          "text": [
            "Epoch 196, Train Loss: 0.0210, Val Loss: 0.2805, Accuracy: 93.75%, F1: 0.9358\n"
          ]
        },
        {
          "name": "stderr",
          "output_type": "stream",
          "text": [
            "\rTraining:  66%|██████▌   | 197/300 [35:35<18:43, 10.91s/it]"
          ]
        },
        {
          "name": "stdout",
          "output_type": "stream",
          "text": [
            "Epoch 197, Train Loss: 0.0145, Val Loss: 0.3078, Accuracy: 91.67%, F1: 0.9155\n"
          ]
        },
        {
          "name": "stderr",
          "output_type": "stream",
          "text": [
            "\rTraining:  66%|██████▌   | 198/300 [35:46<18:32, 10.91s/it]"
          ]
        },
        {
          "name": "stdout",
          "output_type": "stream",
          "text": [
            "Epoch 198, Train Loss: 0.0143, Val Loss: 0.2631, Accuracy: 93.06%, F1: 0.9291\n"
          ]
        },
        {
          "name": "stderr",
          "output_type": "stream",
          "text": [
            "\rTraining:  66%|██████▋   | 199/300 [35:57<18:21, 10.91s/it]"
          ]
        },
        {
          "name": "stdout",
          "output_type": "stream",
          "text": [
            "Epoch 199, Train Loss: 0.0175, Val Loss: 0.2627, Accuracy: 94.44%, F1: 0.9443\n"
          ]
        },
        {
          "name": "stderr",
          "output_type": "stream",
          "text": [
            "\rTraining:  67%|██████▋   | 200/300 [36:08<18:10, 10.90s/it]"
          ]
        },
        {
          "name": "stdout",
          "output_type": "stream",
          "text": [
            "Epoch 200, Train Loss: 0.0159, Val Loss: 0.4359, Accuracy: 89.58%, F1: 0.8924\n"
          ]
        },
        {
          "name": "stderr",
          "output_type": "stream",
          "text": [
            "\rTraining:  67%|██████▋   | 201/300 [36:19<17:59, 10.90s/it]"
          ]
        },
        {
          "name": "stdout",
          "output_type": "stream",
          "text": [
            "Epoch 201, Train Loss: 0.0247, Val Loss: 0.2978, Accuracy: 93.75%, F1: 0.9360\n"
          ]
        },
        {
          "name": "stderr",
          "output_type": "stream",
          "text": [
            "\rTraining:  67%|██████▋   | 202/300 [36:30<17:48, 10.90s/it]"
          ]
        },
        {
          "name": "stdout",
          "output_type": "stream",
          "text": [
            "Epoch 202, Train Loss: 0.0151, Val Loss: 0.3134, Accuracy: 92.36%, F1: 0.9235\n"
          ]
        },
        {
          "name": "stderr",
          "output_type": "stream",
          "text": [
            "\rTraining:  68%|██████▊   | 203/300 [36:41<17:37, 10.91s/it]"
          ]
        },
        {
          "name": "stdout",
          "output_type": "stream",
          "text": [
            "Epoch 203, Train Loss: 0.0138, Val Loss: 0.2963, Accuracy: 93.06%, F1: 0.9309\n"
          ]
        },
        {
          "name": "stderr",
          "output_type": "stream",
          "text": [
            "\rTraining:  68%|██████▊   | 204/300 [36:52<17:26, 10.90s/it]"
          ]
        },
        {
          "name": "stdout",
          "output_type": "stream",
          "text": [
            "Epoch 204, Train Loss: 0.0144, Val Loss: 0.2715, Accuracy: 93.06%, F1: 0.9294\n"
          ]
        },
        {
          "name": "stderr",
          "output_type": "stream",
          "text": [
            "\rTraining:  68%|██████▊   | 205/300 [37:02<17:15, 10.90s/it]"
          ]
        },
        {
          "name": "stdout",
          "output_type": "stream",
          "text": [
            "Epoch 205, Train Loss: 0.0145, Val Loss: 0.3225, Accuracy: 93.75%, F1: 0.9378\n"
          ]
        },
        {
          "name": "stderr",
          "output_type": "stream",
          "text": [
            "\rTraining:  69%|██████▊   | 206/300 [37:13<17:04, 10.90s/it]"
          ]
        },
        {
          "name": "stdout",
          "output_type": "stream",
          "text": [
            "Epoch 206, Train Loss: 0.0180, Val Loss: 0.4673, Accuracy: 89.58%, F1: 0.8935\n"
          ]
        },
        {
          "name": "stderr",
          "output_type": "stream",
          "text": [
            "\rTraining:  69%|██████▉   | 207/300 [37:24<16:53, 10.90s/it]"
          ]
        },
        {
          "name": "stdout",
          "output_type": "stream",
          "text": [
            "Epoch 207, Train Loss: 0.1683, Val Loss: 0.3656, Accuracy: 93.06%, F1: 0.9310\n"
          ]
        },
        {
          "name": "stderr",
          "output_type": "stream",
          "text": [
            "\rTraining:  69%|██████▉   | 208/300 [37:35<16:42, 10.90s/it]"
          ]
        },
        {
          "name": "stdout",
          "output_type": "stream",
          "text": [
            "Epoch 208, Train Loss: 0.0598, Val Loss: 0.2849, Accuracy: 93.06%, F1: 0.9294\n"
          ]
        },
        {
          "name": "stderr",
          "output_type": "stream",
          "text": [
            "\rTraining:  70%|██████▉   | 209/300 [37:46<16:30, 10.89s/it]"
          ]
        },
        {
          "name": "stdout",
          "output_type": "stream",
          "text": [
            "Epoch 209, Train Loss: 0.0207, Val Loss: 0.2983, Accuracy: 94.44%, F1: 0.9443\n"
          ]
        },
        {
          "name": "stderr",
          "output_type": "stream",
          "text": [
            "\rTraining:  70%|███████   | 210/300 [37:57<16:19, 10.88s/it]"
          ]
        },
        {
          "name": "stdout",
          "output_type": "stream",
          "text": [
            "Epoch 210, Train Loss: 0.0120, Val Loss: 0.3056, Accuracy: 93.75%, F1: 0.9378\n"
          ]
        },
        {
          "name": "stderr",
          "output_type": "stream",
          "text": [
            "\rTraining:  70%|███████   | 211/300 [38:08<16:08, 10.88s/it]"
          ]
        },
        {
          "name": "stdout",
          "output_type": "stream",
          "text": [
            "Epoch 211, Train Loss: 0.0110, Val Loss: 0.2915, Accuracy: 94.44%, F1: 0.9449\n"
          ]
        },
        {
          "name": "stderr",
          "output_type": "stream",
          "text": [
            "\rTraining:  71%|███████   | 212/300 [38:19<15:56, 10.87s/it]"
          ]
        },
        {
          "name": "stdout",
          "output_type": "stream",
          "text": [
            "Epoch 212, Train Loss: 0.0115, Val Loss: 0.2877, Accuracy: 93.06%, F1: 0.9290\n"
          ]
        },
        {
          "name": "stderr",
          "output_type": "stream",
          "text": [
            "\rTraining:  71%|███████   | 213/300 [38:29<15:45, 10.87s/it]"
          ]
        },
        {
          "name": "stdout",
          "output_type": "stream",
          "text": [
            "Epoch 213, Train Loss: 0.0115, Val Loss: 0.3091, Accuracy: 94.44%, F1: 0.9442\n"
          ]
        },
        {
          "name": "stderr",
          "output_type": "stream",
          "text": [
            "\rTraining:  71%|███████▏  | 214/300 [38:40<15:34, 10.86s/it]"
          ]
        },
        {
          "name": "stdout",
          "output_type": "stream",
          "text": [
            "Epoch 214, Train Loss: 0.0130, Val Loss: 0.3151, Accuracy: 93.75%, F1: 0.9378\n"
          ]
        },
        {
          "name": "stderr",
          "output_type": "stream",
          "text": [
            "\rTraining:  72%|███████▏  | 215/300 [38:51<15:23, 10.86s/it]"
          ]
        },
        {
          "name": "stdout",
          "output_type": "stream",
          "text": [
            "Epoch 215, Train Loss: 0.0096, Val Loss: 0.2893, Accuracy: 95.14%, F1: 0.9516\n"
          ]
        },
        {
          "name": "stderr",
          "output_type": "stream",
          "text": [
            "\rTraining:  72%|███████▏  | 216/300 [39:02<15:12, 10.86s/it]"
          ]
        },
        {
          "name": "stdout",
          "output_type": "stream",
          "text": [
            "Epoch 216, Train Loss: 0.0095, Val Loss: 0.3253, Accuracy: 93.06%, F1: 0.9313\n"
          ]
        },
        {
          "name": "stderr",
          "output_type": "stream",
          "text": [
            "\rTraining:  72%|███████▏  | 217/300 [39:13<15:01, 10.86s/it]"
          ]
        },
        {
          "name": "stdout",
          "output_type": "stream",
          "text": [
            "Epoch 217, Train Loss: 0.0096, Val Loss: 0.2941, Accuracy: 94.44%, F1: 0.9449\n"
          ]
        },
        {
          "name": "stderr",
          "output_type": "stream",
          "text": [
            "\rTraining:  73%|███████▎  | 218/300 [39:24<14:50, 10.87s/it]"
          ]
        },
        {
          "name": "stdout",
          "output_type": "stream",
          "text": [
            "Epoch 218, Train Loss: 0.0091, Val Loss: 0.3024, Accuracy: 93.75%, F1: 0.9371\n"
          ]
        },
        {
          "name": "stderr",
          "output_type": "stream",
          "text": [
            "\rTraining:  73%|███████▎  | 219/300 [39:35<14:40, 10.87s/it]"
          ]
        },
        {
          "name": "stdout",
          "output_type": "stream",
          "text": [
            "Epoch 219, Train Loss: 0.0086, Val Loss: 0.2995, Accuracy: 93.06%, F1: 0.9301\n"
          ]
        },
        {
          "name": "stderr",
          "output_type": "stream",
          "text": [
            "\rTraining:  73%|███████▎  | 220/300 [39:46<14:29, 10.87s/it]"
          ]
        },
        {
          "name": "stdout",
          "output_type": "stream",
          "text": [
            "Epoch 220, Train Loss: 0.0086, Val Loss: 0.3282, Accuracy: 94.44%, F1: 0.9449\n"
          ]
        },
        {
          "name": "stderr",
          "output_type": "stream",
          "text": [
            "\rTraining:  74%|███████▎  | 221/300 [39:56<14:18, 10.87s/it]"
          ]
        },
        {
          "name": "stdout",
          "output_type": "stream",
          "text": [
            "Epoch 221, Train Loss: 0.0096, Val Loss: 0.3334, Accuracy: 93.75%, F1: 0.9358\n"
          ]
        },
        {
          "name": "stderr",
          "output_type": "stream",
          "text": [
            "\rTraining:  74%|███████▍  | 222/300 [40:07<14:07, 10.87s/it]"
          ]
        },
        {
          "name": "stdout",
          "output_type": "stream",
          "text": [
            "Epoch 222, Train Loss: 0.0092, Val Loss: 0.2833, Accuracy: 93.75%, F1: 0.9379\n"
          ]
        },
        {
          "name": "stderr",
          "output_type": "stream",
          "text": [
            "\rTraining:  74%|███████▍  | 223/300 [40:18<13:56, 10.87s/it]"
          ]
        },
        {
          "name": "stdout",
          "output_type": "stream",
          "text": [
            "Epoch 223, Train Loss: 0.0080, Val Loss: 0.2993, Accuracy: 95.14%, F1: 0.9516\n"
          ]
        },
        {
          "name": "stderr",
          "output_type": "stream",
          "text": [
            "\rTraining:  75%|███████▍  | 224/300 [40:29<13:45, 10.86s/it]"
          ]
        },
        {
          "name": "stdout",
          "output_type": "stream",
          "text": [
            "Epoch 224, Train Loss: 0.0072, Val Loss: 0.3025, Accuracy: 94.44%, F1: 0.9449\n"
          ]
        },
        {
          "name": "stderr",
          "output_type": "stream",
          "text": [
            "\rTraining:  75%|███████▌  | 225/300 [40:40<13:34, 10.86s/it]"
          ]
        },
        {
          "name": "stdout",
          "output_type": "stream",
          "text": [
            "Epoch 225, Train Loss: 0.0072, Val Loss: 0.2888, Accuracy: 94.44%, F1: 0.9449\n"
          ]
        },
        {
          "name": "stderr",
          "output_type": "stream",
          "text": [
            "\rTraining:  75%|███████▌  | 226/300 [40:51<13:23, 10.86s/it]"
          ]
        },
        {
          "name": "stdout",
          "output_type": "stream",
          "text": [
            "Epoch 226, Train Loss: 0.0076, Val Loss: 0.2969, Accuracy: 94.44%, F1: 0.9449\n"
          ]
        },
        {
          "name": "stderr",
          "output_type": "stream",
          "text": [
            "\rTraining:  76%|███████▌  | 227/300 [41:02<13:12, 10.86s/it]"
          ]
        },
        {
          "name": "stdout",
          "output_type": "stream",
          "text": [
            "Epoch 227, Train Loss: 0.0075, Val Loss: 0.3217, Accuracy: 94.44%, F1: 0.9449\n"
          ]
        },
        {
          "name": "stderr",
          "output_type": "stream",
          "text": [
            "\rTraining:  76%|███████▌  | 228/300 [41:12<13:01, 10.85s/it]"
          ]
        },
        {
          "name": "stdout",
          "output_type": "stream",
          "text": [
            "Epoch 228, Train Loss: 0.0093, Val Loss: 0.2951, Accuracy: 95.14%, F1: 0.9516\n"
          ]
        },
        {
          "name": "stderr",
          "output_type": "stream",
          "text": [
            "\rTraining:  76%|███████▋  | 229/300 [41:23<12:50, 10.85s/it]"
          ]
        },
        {
          "name": "stdout",
          "output_type": "stream",
          "text": [
            "Epoch 229, Train Loss: 0.0071, Val Loss: 0.3194, Accuracy: 95.14%, F1: 0.9516\n"
          ]
        },
        {
          "name": "stderr",
          "output_type": "stream",
          "text": [
            "\rTraining:  77%|███████▋  | 230/300 [41:34<12:39, 10.85s/it]"
          ]
        },
        {
          "name": "stdout",
          "output_type": "stream",
          "text": [
            "Epoch 230, Train Loss: 0.0245, Val Loss: 0.3251, Accuracy: 90.97%, F1: 0.9084\n"
          ]
        },
        {
          "name": "stderr",
          "output_type": "stream",
          "text": [
            "\rTraining:  77%|███████▋  | 231/300 [41:45<12:28, 10.84s/it]"
          ]
        },
        {
          "name": "stdout",
          "output_type": "stream",
          "text": [
            "Epoch 231, Train Loss: 0.0104, Val Loss: 0.3198, Accuracy: 93.75%, F1: 0.9371\n"
          ]
        },
        {
          "name": "stderr",
          "output_type": "stream",
          "text": [
            "\rTraining:  77%|███████▋  | 232/300 [41:56<12:17, 10.84s/it]"
          ]
        },
        {
          "name": "stdout",
          "output_type": "stream",
          "text": [
            "Epoch 232, Train Loss: 0.0101, Val Loss: 0.3028, Accuracy: 93.75%, F1: 0.9375\n"
          ]
        },
        {
          "name": "stderr",
          "output_type": "stream",
          "text": [
            "\rTraining:  78%|███████▊  | 233/300 [42:07<12:06, 10.84s/it]"
          ]
        },
        {
          "name": "stdout",
          "output_type": "stream",
          "text": [
            "Epoch 233, Train Loss: 0.0066, Val Loss: 0.3115, Accuracy: 93.75%, F1: 0.9381\n"
          ]
        },
        {
          "name": "stderr",
          "output_type": "stream",
          "text": [
            "\rTraining:  78%|███████▊  | 234/300 [42:17<11:55, 10.84s/it]"
          ]
        },
        {
          "name": "stdout",
          "output_type": "stream",
          "text": [
            "Epoch 234, Train Loss: 0.0067, Val Loss: 0.3215, Accuracy: 93.75%, F1: 0.9378\n"
          ]
        },
        {
          "name": "stderr",
          "output_type": "stream",
          "text": [
            "\rTraining:  78%|███████▊  | 235/300 [42:28<11:44, 10.84s/it]"
          ]
        },
        {
          "name": "stdout",
          "output_type": "stream",
          "text": [
            "Epoch 235, Train Loss: 0.0063, Val Loss: 0.3179, Accuracy: 93.06%, F1: 0.9313\n"
          ]
        },
        {
          "name": "stderr",
          "output_type": "stream",
          "text": [
            "\rTraining:  79%|███████▊  | 236/300 [42:39<11:33, 10.84s/it]"
          ]
        },
        {
          "name": "stdout",
          "output_type": "stream",
          "text": [
            "Epoch 236, Train Loss: 0.0060, Val Loss: 0.3128, Accuracy: 94.44%, F1: 0.9449\n"
          ]
        },
        {
          "name": "stderr",
          "output_type": "stream",
          "text": [
            "\rTraining:  79%|███████▉  | 237/300 [42:50<11:22, 10.83s/it]"
          ]
        },
        {
          "name": "stdout",
          "output_type": "stream",
          "text": [
            "Epoch 237, Train Loss: 0.0056, Val Loss: 0.3116, Accuracy: 94.44%, F1: 0.9449\n"
          ]
        },
        {
          "name": "stderr",
          "output_type": "stream",
          "text": [
            "\rTraining:  79%|███████▉  | 238/300 [43:01<11:11, 10.83s/it]"
          ]
        },
        {
          "name": "stdout",
          "output_type": "stream",
          "text": [
            "Epoch 238, Train Loss: 0.0053, Val Loss: 0.3050, Accuracy: 94.44%, F1: 0.9449\n"
          ]
        },
        {
          "name": "stderr",
          "output_type": "stream",
          "text": [
            "\rTraining:  80%|███████▉  | 239/300 [43:12<11:00, 10.83s/it]"
          ]
        },
        {
          "name": "stdout",
          "output_type": "stream",
          "text": [
            "Epoch 239, Train Loss: 0.0051, Val Loss: 0.3136, Accuracy: 94.44%, F1: 0.9449\n"
          ]
        },
        {
          "name": "stderr",
          "output_type": "stream",
          "text": [
            "\rTraining:  80%|████████  | 240/300 [43:22<10:49, 10.83s/it]"
          ]
        },
        {
          "name": "stdout",
          "output_type": "stream",
          "text": [
            "Epoch 240, Train Loss: 0.0050, Val Loss: 0.2966, Accuracy: 94.44%, F1: 0.9449\n"
          ]
        },
        {
          "name": "stderr",
          "output_type": "stream",
          "text": [
            "\rTraining:  80%|████████  | 241/300 [43:33<10:39, 10.83s/it]"
          ]
        },
        {
          "name": "stdout",
          "output_type": "stream",
          "text": [
            "Epoch 241, Train Loss: 0.0056, Val Loss: 0.3100, Accuracy: 95.14%, F1: 0.9516\n"
          ]
        },
        {
          "name": "stderr",
          "output_type": "stream",
          "text": [
            "\rTraining:  81%|████████  | 242/300 [43:44<10:28, 10.83s/it]"
          ]
        },
        {
          "name": "stdout",
          "output_type": "stream",
          "text": [
            "Epoch 242, Train Loss: 0.0066, Val Loss: 0.3235, Accuracy: 93.75%, F1: 0.9378\n"
          ]
        },
        {
          "name": "stderr",
          "output_type": "stream",
          "text": [
            "\rTraining:  81%|████████  | 243/300 [43:55<10:17, 10.83s/it]"
          ]
        },
        {
          "name": "stdout",
          "output_type": "stream",
          "text": [
            "Epoch 243, Train Loss: 0.0047, Val Loss: 0.3260, Accuracy: 94.44%, F1: 0.9449\n"
          ]
        },
        {
          "name": "stderr",
          "output_type": "stream",
          "text": [
            "\rTraining:  81%|████████▏ | 244/300 [44:06<10:06, 10.83s/it]"
          ]
        },
        {
          "name": "stdout",
          "output_type": "stream",
          "text": [
            "Epoch 244, Train Loss: 0.0045, Val Loss: 0.3134, Accuracy: 93.75%, F1: 0.9381\n"
          ]
        },
        {
          "name": "stderr",
          "output_type": "stream",
          "text": [
            "\rTraining:  82%|████████▏ | 245/300 [44:17<09:55, 10.83s/it]"
          ]
        },
        {
          "name": "stdout",
          "output_type": "stream",
          "text": [
            "Epoch 245, Train Loss: 0.0050, Val Loss: 0.3294, Accuracy: 94.44%, F1: 0.9442\n"
          ]
        },
        {
          "name": "stderr",
          "output_type": "stream",
          "text": [
            "\rTraining:  82%|████████▏ | 246/300 [44:27<09:45, 10.84s/it]"
          ]
        },
        {
          "name": "stdout",
          "output_type": "stream",
          "text": [
            "Epoch 246, Train Loss: 0.0046, Val Loss: 0.3110, Accuracy: 95.14%, F1: 0.9516\n"
          ]
        },
        {
          "name": "stderr",
          "output_type": "stream",
          "text": [
            "\rTraining:  82%|████████▏ | 247/300 [44:38<09:34, 10.85s/it]"
          ]
        },
        {
          "name": "stdout",
          "output_type": "stream",
          "text": [
            "Epoch 247, Train Loss: 0.0051, Val Loss: 0.3404, Accuracy: 93.75%, F1: 0.9375\n"
          ]
        },
        {
          "name": "stderr",
          "output_type": "stream",
          "text": [
            "\rTraining:  83%|████████▎ | 248/300 [44:49<09:24, 10.87s/it]"
          ]
        },
        {
          "name": "stdout",
          "output_type": "stream",
          "text": [
            "Epoch 248, Train Loss: 0.0053, Val Loss: 0.3142, Accuracy: 93.75%, F1: 0.9371\n"
          ]
        },
        {
          "name": "stderr",
          "output_type": "stream",
          "text": [
            "\rTraining:  83%|████████▎ | 249/300 [45:00<09:15, 10.89s/it]"
          ]
        },
        {
          "name": "stdout",
          "output_type": "stream",
          "text": [
            "Epoch 249, Train Loss: 0.0046, Val Loss: 0.3392, Accuracy: 93.06%, F1: 0.9301\n"
          ]
        },
        {
          "name": "stderr",
          "output_type": "stream",
          "text": [
            "\rTraining:  83%|████████▎ | 250/300 [45:11<09:05, 10.90s/it]"
          ]
        },
        {
          "name": "stdout",
          "output_type": "stream",
          "text": [
            "Epoch 250, Train Loss: 0.0047, Val Loss: 0.3380, Accuracy: 93.75%, F1: 0.9380\n"
          ]
        },
        {
          "name": "stderr",
          "output_type": "stream",
          "text": [
            "\rTraining:  84%|████████▎ | 251/300 [45:22<08:54, 10.91s/it]"
          ]
        },
        {
          "name": "stdout",
          "output_type": "stream",
          "text": [
            "Epoch 251, Train Loss: 0.0050, Val Loss: 0.3363, Accuracy: 93.75%, F1: 0.9371\n"
          ]
        },
        {
          "name": "stderr",
          "output_type": "stream",
          "text": [
            "\rTraining:  84%|████████▍ | 252/300 [45:33<08:43, 10.91s/it]"
          ]
        },
        {
          "name": "stdout",
          "output_type": "stream",
          "text": [
            "Epoch 252, Train Loss: 0.0040, Val Loss: 0.3224, Accuracy: 94.44%, F1: 0.9449\n"
          ]
        },
        {
          "name": "stderr",
          "output_type": "stream",
          "text": [
            "\rTraining:  84%|████████▍ | 253/300 [45:44<08:32, 10.90s/it]"
          ]
        },
        {
          "name": "stdout",
          "output_type": "stream",
          "text": [
            "Epoch 253, Train Loss: 0.0043, Val Loss: 0.3283, Accuracy: 95.14%, F1: 0.9516\n"
          ]
        },
        {
          "name": "stderr",
          "output_type": "stream",
          "text": [
            "\rTraining:  85%|████████▍ | 254/300 [45:55<08:21, 10.90s/it]"
          ]
        },
        {
          "name": "stdout",
          "output_type": "stream",
          "text": [
            "Epoch 254, Train Loss: 0.0042, Val Loss: 0.3221, Accuracy: 94.44%, F1: 0.9449\n"
          ]
        },
        {
          "name": "stderr",
          "output_type": "stream",
          "text": [
            "\rTraining:  85%|████████▌ | 255/300 [46:06<08:10, 10.89s/it]"
          ]
        },
        {
          "name": "stdout",
          "output_type": "stream",
          "text": [
            "Epoch 255, Train Loss: 0.0033, Val Loss: 0.3415, Accuracy: 93.06%, F1: 0.9310\n"
          ]
        },
        {
          "name": "stderr",
          "output_type": "stream",
          "text": [
            "\rTraining:  85%|████████▌ | 256/300 [46:16<07:59, 10.90s/it]"
          ]
        },
        {
          "name": "stdout",
          "output_type": "stream",
          "text": [
            "Epoch 256, Train Loss: 0.0042, Val Loss: 0.3510, Accuracy: 93.75%, F1: 0.9381\n"
          ]
        },
        {
          "name": "stderr",
          "output_type": "stream",
          "text": [
            "\rTraining:  86%|████████▌ | 257/300 [46:27<07:48, 10.90s/it]"
          ]
        },
        {
          "name": "stdout",
          "output_type": "stream",
          "text": [
            "Epoch 257, Train Loss: 0.0044, Val Loss: 0.3277, Accuracy: 93.06%, F1: 0.9310\n"
          ]
        },
        {
          "name": "stderr",
          "output_type": "stream",
          "text": [
            "\rTraining:  86%|████████▌ | 258/300 [46:38<07:38, 10.91s/it]"
          ]
        },
        {
          "name": "stdout",
          "output_type": "stream",
          "text": [
            "Epoch 258, Train Loss: 0.0038, Val Loss: 0.3219, Accuracy: 94.44%, F1: 0.9449\n"
          ]
        },
        {
          "name": "stderr",
          "output_type": "stream",
          "text": [
            "\rTraining:  86%|████████▋ | 259/300 [46:49<07:27, 10.91s/it]"
          ]
        },
        {
          "name": "stdout",
          "output_type": "stream",
          "text": [
            "Epoch 259, Train Loss: 0.0030, Val Loss: 0.3560, Accuracy: 93.06%, F1: 0.9313\n"
          ]
        },
        {
          "name": "stderr",
          "output_type": "stream",
          "text": [
            "\rTraining:  87%|████████▋ | 260/300 [47:00<07:16, 10.91s/it]"
          ]
        },
        {
          "name": "stdout",
          "output_type": "stream",
          "text": [
            "Epoch 260, Train Loss: 0.0034, Val Loss: 0.3132, Accuracy: 94.44%, F1: 0.9449\n"
          ]
        },
        {
          "name": "stderr",
          "output_type": "stream",
          "text": [
            "\rTraining:  87%|████████▋ | 261/300 [47:11<07:05, 10.92s/it]"
          ]
        },
        {
          "name": "stdout",
          "output_type": "stream",
          "text": [
            "Epoch 261, Train Loss: 0.0991, Val Loss: 0.8913, Accuracy: 82.64%, F1: 0.8233\n"
          ]
        },
        {
          "name": "stderr",
          "output_type": "stream",
          "text": [
            "\rTraining:  87%|████████▋ | 262/300 [47:22<06:54, 10.91s/it]"
          ]
        },
        {
          "name": "stdout",
          "output_type": "stream",
          "text": [
            "Epoch 262, Train Loss: 0.1922, Val Loss: 0.5925, Accuracy: 86.11%, F1: 0.8629\n"
          ]
        },
        {
          "name": "stderr",
          "output_type": "stream",
          "text": [
            "\rTraining:  88%|████████▊ | 263/300 [47:33<06:43, 10.91s/it]"
          ]
        },
        {
          "name": "stdout",
          "output_type": "stream",
          "text": [
            "Epoch 263, Train Loss: 0.0783, Val Loss: 0.3683, Accuracy: 92.36%, F1: 0.9236\n"
          ]
        },
        {
          "name": "stderr",
          "output_type": "stream",
          "text": [
            "\rTraining:  88%|████████▊ | 264/300 [47:44<06:32, 10.91s/it]"
          ]
        },
        {
          "name": "stdout",
          "output_type": "stream",
          "text": [
            "Epoch 264, Train Loss: 0.0244, Val Loss: 0.3167, Accuracy: 92.36%, F1: 0.9243\n"
          ]
        },
        {
          "name": "stderr",
          "output_type": "stream",
          "text": [
            "\rTraining:  88%|████████▊ | 265/300 [47:55<06:21, 10.91s/it]"
          ]
        },
        {
          "name": "stdout",
          "output_type": "stream",
          "text": [
            "Epoch 265, Train Loss: 0.0063, Val Loss: 0.3261, Accuracy: 94.44%, F1: 0.9453\n"
          ]
        },
        {
          "name": "stderr",
          "output_type": "stream",
          "text": [
            "\rTraining:  89%|████████▊ | 266/300 [48:06<06:10, 10.91s/it]"
          ]
        },
        {
          "name": "stdout",
          "output_type": "stream",
          "text": [
            "Epoch 266, Train Loss: 0.0041, Val Loss: 0.3257, Accuracy: 94.44%, F1: 0.9449\n"
          ]
        },
        {
          "name": "stderr",
          "output_type": "stream",
          "text": [
            "\rTraining:  89%|████████▉ | 267/300 [48:16<05:59, 10.90s/it]"
          ]
        },
        {
          "name": "stdout",
          "output_type": "stream",
          "text": [
            "Epoch 267, Train Loss: 0.0042, Val Loss: 0.3241, Accuracy: 93.75%, F1: 0.9375\n"
          ]
        },
        {
          "name": "stderr",
          "output_type": "stream",
          "text": [
            "\rTraining:  89%|████████▉ | 268/300 [48:27<05:48, 10.89s/it]"
          ]
        },
        {
          "name": "stdout",
          "output_type": "stream",
          "text": [
            "Epoch 268, Train Loss: 0.0041, Val Loss: 0.3286, Accuracy: 94.44%, F1: 0.9449\n"
          ]
        },
        {
          "name": "stderr",
          "output_type": "stream",
          "text": [
            "\rTraining:  90%|████████▉ | 269/300 [48:38<05:37, 10.89s/it]"
          ]
        },
        {
          "name": "stdout",
          "output_type": "stream",
          "text": [
            "Epoch 269, Train Loss: 0.0036, Val Loss: 0.3270, Accuracy: 94.44%, F1: 0.9449\n"
          ]
        },
        {
          "name": "stderr",
          "output_type": "stream",
          "text": [
            "\rTraining:  90%|█████████ | 270/300 [48:49<05:26, 10.89s/it]"
          ]
        },
        {
          "name": "stdout",
          "output_type": "stream",
          "text": [
            "Epoch 270, Train Loss: 0.0036, Val Loss: 0.3377, Accuracy: 94.44%, F1: 0.9449\n"
          ]
        },
        {
          "name": "stderr",
          "output_type": "stream",
          "text": [
            "\rTraining:  90%|█████████ | 271/300 [49:00<05:15, 10.89s/it]"
          ]
        },
        {
          "name": "stdout",
          "output_type": "stream",
          "text": [
            "Epoch 271, Train Loss: 0.0035, Val Loss: 0.3263, Accuracy: 93.75%, F1: 0.9375\n"
          ]
        },
        {
          "name": "stderr",
          "output_type": "stream",
          "text": [
            "\rTraining:  91%|█████████ | 272/300 [49:11<05:04, 10.89s/it]"
          ]
        },
        {
          "name": "stdout",
          "output_type": "stream",
          "text": [
            "Epoch 272, Train Loss: 0.0035, Val Loss: 0.3339, Accuracy: 94.44%, F1: 0.9449\n"
          ]
        },
        {
          "name": "stderr",
          "output_type": "stream",
          "text": [
            "\rTraining:  91%|█████████ | 273/300 [49:22<04:53, 10.89s/it]"
          ]
        },
        {
          "name": "stdout",
          "output_type": "stream",
          "text": [
            "Epoch 273, Train Loss: 0.0033, Val Loss: 0.3326, Accuracy: 94.44%, F1: 0.9449\n"
          ]
        },
        {
          "name": "stderr",
          "output_type": "stream",
          "text": [
            "\rTraining:  91%|█████████▏| 274/300 [49:33<04:42, 10.88s/it]"
          ]
        },
        {
          "name": "stdout",
          "output_type": "stream",
          "text": [
            "Epoch 274, Train Loss: 0.0034, Val Loss: 0.3338, Accuracy: 94.44%, F1: 0.9449\n"
          ]
        },
        {
          "name": "stderr",
          "output_type": "stream",
          "text": [
            "\rTraining:  92%|█████████▏| 275/300 [49:44<04:32, 10.89s/it]"
          ]
        },
        {
          "name": "stdout",
          "output_type": "stream",
          "text": [
            "Epoch 275, Train Loss: 0.0032, Val Loss: 0.3313, Accuracy: 94.44%, F1: 0.9449\n"
          ]
        },
        {
          "name": "stderr",
          "output_type": "stream",
          "text": [
            "\rTraining:  92%|█████████▏| 276/300 [49:54<04:21, 10.88s/it]"
          ]
        },
        {
          "name": "stdout",
          "output_type": "stream",
          "text": [
            "Epoch 276, Train Loss: 0.0031, Val Loss: 0.3324, Accuracy: 94.44%, F1: 0.9449\n"
          ]
        },
        {
          "name": "stderr",
          "output_type": "stream",
          "text": [
            "\rTraining:  92%|█████████▏| 277/300 [50:05<04:10, 10.88s/it]"
          ]
        },
        {
          "name": "stdout",
          "output_type": "stream",
          "text": [
            "Epoch 277, Train Loss: 0.0031, Val Loss: 0.3413, Accuracy: 93.75%, F1: 0.9381\n"
          ]
        },
        {
          "name": "stderr",
          "output_type": "stream",
          "text": [
            "\rTraining:  93%|█████████▎| 278/300 [50:16<03:59, 10.89s/it]"
          ]
        },
        {
          "name": "stdout",
          "output_type": "stream",
          "text": [
            "Epoch 278, Train Loss: 0.0031, Val Loss: 0.3432, Accuracy: 94.44%, F1: 0.9449\n"
          ]
        },
        {
          "name": "stderr",
          "output_type": "stream",
          "text": [
            "\rTraining:  93%|█████████▎| 279/300 [50:27<03:48, 10.89s/it]"
          ]
        },
        {
          "name": "stdout",
          "output_type": "stream",
          "text": [
            "Epoch 279, Train Loss: 0.0029, Val Loss: 0.3399, Accuracy: 94.44%, F1: 0.9449\n"
          ]
        },
        {
          "name": "stderr",
          "output_type": "stream",
          "text": [
            "\rTraining:  93%|█████████▎| 280/300 [50:38<03:37, 10.89s/it]"
          ]
        },
        {
          "name": "stdout",
          "output_type": "stream",
          "text": [
            "Epoch 280, Train Loss: 0.0029, Val Loss: 0.3383, Accuracy: 94.44%, F1: 0.9449\n"
          ]
        },
        {
          "name": "stderr",
          "output_type": "stream",
          "text": [
            "\rTraining:  94%|█████████▎| 281/300 [50:49<03:26, 10.89s/it]"
          ]
        },
        {
          "name": "stdout",
          "output_type": "stream",
          "text": [
            "Epoch 281, Train Loss: 0.0027, Val Loss: 0.3368, Accuracy: 94.44%, F1: 0.9449\n"
          ]
        },
        {
          "name": "stderr",
          "output_type": "stream",
          "text": [
            "\rTraining:  94%|█████████▍| 282/300 [51:00<03:16, 10.89s/it]"
          ]
        },
        {
          "name": "stdout",
          "output_type": "stream",
          "text": [
            "Epoch 282, Train Loss: 0.0028, Val Loss: 0.3360, Accuracy: 94.44%, F1: 0.9449\n"
          ]
        },
        {
          "name": "stderr",
          "output_type": "stream",
          "text": [
            "\rTraining:  94%|█████████▍| 283/300 [51:11<03:05, 10.89s/it]"
          ]
        },
        {
          "name": "stdout",
          "output_type": "stream",
          "text": [
            "Epoch 283, Train Loss: 0.0027, Val Loss: 0.3292, Accuracy: 94.44%, F1: 0.9449\n"
          ]
        },
        {
          "name": "stderr",
          "output_type": "stream",
          "text": [
            "\rTraining:  95%|█████████▍| 284/300 [51:22<02:54, 10.89s/it]"
          ]
        },
        {
          "name": "stdout",
          "output_type": "stream",
          "text": [
            "Epoch 284, Train Loss: 0.0026, Val Loss: 0.3351, Accuracy: 94.44%, F1: 0.9449\n"
          ]
        },
        {
          "name": "stderr",
          "output_type": "stream",
          "text": [
            "\rTraining:  95%|█████████▌| 285/300 [51:32<02:43, 10.89s/it]"
          ]
        },
        {
          "name": "stdout",
          "output_type": "stream",
          "text": [
            "Epoch 285, Train Loss: 0.0025, Val Loss: 0.3324, Accuracy: 94.44%, F1: 0.9449\n"
          ]
        },
        {
          "name": "stderr",
          "output_type": "stream",
          "text": [
            "\rTraining:  95%|█████████▌| 286/300 [51:43<02:32, 10.89s/it]"
          ]
        },
        {
          "name": "stdout",
          "output_type": "stream",
          "text": [
            "Epoch 286, Train Loss: 0.0026, Val Loss: 0.3372, Accuracy: 94.44%, F1: 0.9449\n"
          ]
        },
        {
          "name": "stderr",
          "output_type": "stream",
          "text": [
            "\rTraining:  96%|█████████▌| 287/300 [51:54<02:21, 10.89s/it]"
          ]
        },
        {
          "name": "stdout",
          "output_type": "stream",
          "text": [
            "Epoch 287, Train Loss: 0.0025, Val Loss: 0.3439, Accuracy: 94.44%, F1: 0.9449\n"
          ]
        },
        {
          "name": "stderr",
          "output_type": "stream",
          "text": [
            "\rTraining:  96%|█████████▌| 288/300 [52:05<02:10, 10.89s/it]"
          ]
        },
        {
          "name": "stdout",
          "output_type": "stream",
          "text": [
            "Epoch 288, Train Loss: 0.0024, Val Loss: 0.3316, Accuracy: 94.44%, F1: 0.9449\n"
          ]
        },
        {
          "name": "stderr",
          "output_type": "stream",
          "text": [
            "\rTraining:  96%|█████████▋| 289/300 [52:16<01:59, 10.89s/it]"
          ]
        },
        {
          "name": "stdout",
          "output_type": "stream",
          "text": [
            "Epoch 289, Train Loss: 0.0024, Val Loss: 0.3507, Accuracy: 93.75%, F1: 0.9381\n"
          ]
        },
        {
          "name": "stderr",
          "output_type": "stream",
          "text": [
            "\rTraining:  97%|█████████▋| 290/300 [52:27<01:48, 10.89s/it]"
          ]
        },
        {
          "name": "stdout",
          "output_type": "stream",
          "text": [
            "Epoch 290, Train Loss: 0.0024, Val Loss: 0.3326, Accuracy: 94.44%, F1: 0.9449\n"
          ]
        },
        {
          "name": "stderr",
          "output_type": "stream",
          "text": [
            "\rTraining:  97%|█████████▋| 291/300 [52:38<01:37, 10.89s/it]"
          ]
        },
        {
          "name": "stdout",
          "output_type": "stream",
          "text": [
            "Epoch 291, Train Loss: 0.0024, Val Loss: 0.3428, Accuracy: 93.75%, F1: 0.9381\n"
          ]
        },
        {
          "name": "stderr",
          "output_type": "stream",
          "text": [
            "\rTraining:  97%|█████████▋| 292/300 [52:49<01:27, 10.89s/it]"
          ]
        },
        {
          "name": "stdout",
          "output_type": "stream",
          "text": [
            "Epoch 292, Train Loss: 0.0023, Val Loss: 0.3333, Accuracy: 94.44%, F1: 0.9449\n"
          ]
        },
        {
          "name": "stderr",
          "output_type": "stream",
          "text": [
            "\rTraining:  98%|█████████▊| 293/300 [53:00<01:16, 10.89s/it]"
          ]
        },
        {
          "name": "stdout",
          "output_type": "stream",
          "text": [
            "Epoch 293, Train Loss: 0.0022, Val Loss: 0.3310, Accuracy: 94.44%, F1: 0.9449\n"
          ]
        },
        {
          "name": "stderr",
          "output_type": "stream",
          "text": [
            "\rTraining:  98%|█████████▊| 294/300 [53:10<01:05, 10.89s/it]"
          ]
        },
        {
          "name": "stdout",
          "output_type": "stream",
          "text": [
            "Epoch 294, Train Loss: 0.0038, Val Loss: 0.3370, Accuracy: 93.75%, F1: 0.9381\n"
          ]
        },
        {
          "name": "stderr",
          "output_type": "stream",
          "text": [
            "\rTraining:  98%|█████████▊| 295/300 [53:21<00:54, 10.89s/it]"
          ]
        },
        {
          "name": "stdout",
          "output_type": "stream",
          "text": [
            "Epoch 295, Train Loss: 0.0084, Val Loss: 0.3478, Accuracy: 93.06%, F1: 0.9313\n"
          ]
        },
        {
          "name": "stderr",
          "output_type": "stream",
          "text": [
            "\rTraining:  99%|█████████▊| 296/300 [53:32<00:43, 10.90s/it]"
          ]
        },
        {
          "name": "stdout",
          "output_type": "stream",
          "text": [
            "Epoch 296, Train Loss: 0.0028, Val Loss: 0.3317, Accuracy: 94.44%, F1: 0.9449\n"
          ]
        },
        {
          "name": "stderr",
          "output_type": "stream",
          "text": [
            "\rTraining:  99%|█████████▉| 297/300 [53:43<00:32, 10.89s/it]"
          ]
        },
        {
          "name": "stdout",
          "output_type": "stream",
          "text": [
            "Epoch 297, Train Loss: 0.0025, Val Loss: 0.3487, Accuracy: 93.75%, F1: 0.9381\n"
          ]
        },
        {
          "name": "stderr",
          "output_type": "stream",
          "text": [
            "\rTraining:  99%|█████████▉| 298/300 [53:54<00:21, 10.89s/it]"
          ]
        },
        {
          "name": "stdout",
          "output_type": "stream",
          "text": [
            "Epoch 298, Train Loss: 0.0024, Val Loss: 0.3322, Accuracy: 94.44%, F1: 0.9449\n"
          ]
        },
        {
          "name": "stderr",
          "output_type": "stream",
          "text": [
            "\rTraining: 100%|█████████▉| 299/300 [54:05<00:10, 10.89s/it]"
          ]
        },
        {
          "name": "stdout",
          "output_type": "stream",
          "text": [
            "Epoch 299, Train Loss: 0.0021, Val Loss: 0.3371, Accuracy: 94.44%, F1: 0.9449\n"
          ]
        },
        {
          "name": "stderr",
          "output_type": "stream",
          "text": [
            "Training: 100%|██████████| 300/300 [54:16<00:00, 10.85s/it]"
          ]
        },
        {
          "name": "stdout",
          "output_type": "stream",
          "text": [
            "Epoch 300, Train Loss: 0.0021, Val Loss: 0.3401, Accuracy: 94.44%, F1: 0.9449\n",
            "Best model saved with F1: 0.9585\n"
          ]
        },
        {
          "name": "stderr",
          "output_type": "stream",
          "text": [
            "\n"
          ]
        }
      ],
      "source": [
        "from tqdm import tqdm\n",
        "\n",
        "for epoch in tqdm(range(300), desc=\"Training\"):\n",
        "    model.train()\n",
        "    total_loss = 0\n",
        "    for X_batch, y_batch in train_loader:\n",
        "        X_batch, y_batch = X_batch.to(device), y_batch.to(device)\n",
        "        optimizer.zero_grad()\n",
        "        logits, _ = model(X_batch)\n",
        "        loss = criterion(logits, y_batch)\n",
        "        loss.backward()\n",
        "        optimizer.step()\n",
        "        total_loss += loss.item() * X_batch.size(0)\n",
        "\n",
        "    avg_train_loss = total_loss / len(train_loader.dataset)\n",
        "\n",
        "    model.eval()\n",
        "    total_val_loss = 0\n",
        "    all_preds, all_labels = [], []\n",
        "    with torch.no_grad():\n",
        "        for X_batch, y_batch in test_loader:\n",
        "            X_batch, y_batch = X_batch.to(device), y_batch.to(device)\n",
        "            logits, _ = model(X_batch)\n",
        "            loss = criterion(logits, y_batch)\n",
        "            total_val_loss += loss.item() * X_batch.size(0)\n",
        "            scores = logits.softmax(dim=1)\n",
        "            preds = scores.argmax(dim=1)\n",
        "            all_preds.append(preds.cpu())\n",
        "            all_labels.append(y_batch.cpu())\n",
        "\n",
        "    avg_val_loss = total_val_loss / len(test_loader.dataset)\n",
        "    all_preds = torch.cat(all_preds)\n",
        "    all_labels = torch.cat(all_labels)\n",
        "\n",
        "    accuracy = accuracy_score(all_labels.numpy(), all_preds.numpy())\n",
        "    f1 = f1_score(all_labels.numpy(), all_preds.numpy(), average=\"weighted\")\n",
        "\n",
        "    print(f\"Epoch {epoch+1}, Train Loss: {avg_train_loss:.4f}, Val Loss: {avg_val_loss:.4f}, Accuracy: {accuracy*100:.2f}%, F1: {f1:.4f}\")\n",
        "\n",
        "    if f1 >= best_f1:\n",
        "        best_f1 = f1\n",
        "        print(f\"New best F1: {best_f1:.4f} - saving model\")\n",
        "        best_model_state = model.state_dict()\n",
        "        counter = 0\n",
        "    else:\n",
        "        counter += 1\n",
        "\n",
        "    # if counter >= patience:\n",
        "    #     print(f\"Early stopping at epoch {epoch+1}\")\n",
        "    #     break\n",
        "\n",
        "torch.save(best_model_state, \"best_model_dnn.pth\")\n",
        "print(f\"Best model saved with F1: {best_f1:.4f}\")"
      ]
    },
    {
      "cell_type": "code",
      "execution_count": 65,
      "metadata": {
        "colab": {
          "base_uri": "https://localhost:8080/"
        },
        "id": "sY31Cad_IscE",
        "outputId": "546ef1ba-996c-45c2-be05-c68a3c9f9688"
      },
      "outputs": [
        {
          "name": "stdout",
          "output_type": "stream",
          "text": [
            "\n",
            "True Test Labels (y_test):\n",
            "[0 0 0 0 0 0 0 0 0 0 0 0 0 0 0 0 1 1 1 1 1 1 1 1 1 1 1 1 1 1 1 2 2 2 2 2 2\n",
            " 2 2 2 2 2 2 2 3 3 3 3 3 3 3 3 3 3 3 3 3 4 4 4 4 4 4 4 4 4 4 4 4 4 5 5 5 5\n",
            " 5 5 5 5 5 5 5 5 5 5 5 5 6 6 6 6 6 6 6 6 6 6 6 6 6 6 6 6 7 7 7 7 7 7 7 7 7\n",
            " 7 7 7 7 7 7 8 8 8 8 8 8 8 8 8 8 8 8 8 8 9 9 9 9 9 9 9 9 9 9 9 9 9]\n",
            "\n",
            "Predicted Test Labels (y_preds):\n",
            "[0 0 0 0 0 0 0 0 0 0 0 0 0 0 0 0 1 1 1 1 1 1 1 1 1 1 1 1 1 1 1 2 2 2 2 2 2\n",
            " 2 2 2 2 2 2 6 3 3 3 3 3 3 3 3 3 3 3 3 3 2 4 4 4 4 4 4 4 2 4 4 4 2 5 5 5 5\n",
            " 5 5 5 5 5 5 5 5 5 5 5 5 6 6 6 6 1 6 6 6 6 2 6 6 6 6 6 6 7 7 7 7 7 7 7 7 7\n",
            " 7 7 7 7 8 7 8 8 8 8 8 8 8 8 8 8 8 8 8 8 9 9 9 9 6 9 9 9 9 9 9 9 9]\n"
          ]
        }
      ],
      "source": [
        "# prompt: carica il miglior modello e calcola le y_preds oltre che le y_test vere\n",
        "\n",
        "# Load the best model state\n",
        "model = XVectorDNN(input_dim=X_train.shape[2], num_spkrs=len(speaker_to_index))\n",
        "model.load_state_dict(torch.load(\"best_model_dnn.pth\"))\n",
        "model.to(device)\n",
        "model.eval()  # Set the model to evaluation mode\n",
        "\n",
        "# Calculate predictions on the test set\n",
        "with torch.no_grad():\n",
        "    X_test = X_test.to(device)\n",
        "    logits, _ = model(X_test)\n",
        "    y_preds = logits.argmax(dim=1)\n",
        "\n",
        "# y_test contains the true labels\n",
        "\n",
        "# Print the true and predicted labels\n",
        "print(\"\\nTrue Test Labels (y_test):\")\n",
        "print(y_test.numpy())\n",
        "\n",
        "print(\"\\nPredicted Test Labels (y_preds):\")\n",
        "print(y_preds.cpu().numpy())"
      ]
    },
    {
      "cell_type": "code",
      "execution_count": 66,
      "metadata": {
        "colab": {
          "base_uri": "https://localhost:8080/"
        },
        "id": "qktauUyKIt0z",
        "outputId": "6820966b-9ccd-4bd2-8b32-3f2d333439ed"
      },
      "outputs": [
        {
          "name": "stdout",
          "output_type": "stream",
          "text": [
            "Test Accuracy: 94.44%\n",
            "\n",
            "Classification Report:\n",
            "              precision    recall  f1-score   support\n",
            "\n",
            "        4014       1.00      1.00      1.00        16\n",
            "        8063       0.94      1.00      0.97        15\n",
            "          27       0.75      0.92      0.83        13\n",
            "        1867       1.00      1.00      1.00        13\n",
            "         118       1.00      0.77      0.87        13\n",
            "         211       1.00      1.00      1.00        16\n",
            "         730       0.88      0.88      0.88        16\n",
            "        2989       1.00      0.93      0.97        15\n",
            "        4195       0.93      1.00      0.97        14\n",
            "         125       1.00      0.92      0.96        13\n",
            "\n",
            "    accuracy                           0.94       144\n",
            "   macro avg       0.95      0.94      0.94       144\n",
            "weighted avg       0.95      0.94      0.94       144\n",
            "\n"
          ]
        }
      ],
      "source": [
        "# Compute Accuracy\n",
        "accuracy = accuracy_score(y_test.numpy(), y_preds.cpu().numpy())\n",
        "print(f\"Test Accuracy: {accuracy * 100:.2f}%\")\n",
        "\n",
        "# You can add other multiclass metrics here\n",
        "from sklearn.metrics import classification_report\n",
        "\n",
        "print(\"\\nClassification Report:\")\n",
        "# The target_names argument can make the report more readable\n",
        "print(classification_report(y_test.numpy(), y_preds.cpu().numpy(), target_names=[str(i) for i in speaker_to_index.keys()]))"
      ]
    },
    {
      "cell_type": "markdown",
      "metadata": {
        "id": "CfNILDiZJ0Lw"
      },
      "source": [
        "# Caricamento degli impostori - utenti non autorizzati"
      ]
    },
    {
      "cell_type": "code",
      "execution_count": 67,
      "metadata": {
        "id": "kTZ-zigNKMK1"
      },
      "outputs": [],
      "source": [
        "all_speaker_ids = set(speakers.keys()) # insieme di speaker ID\n",
        "selected_ids = set(speaker_split_data.keys()) # insieme di speaker selezionati\n",
        "impostor_ids = list(all_speaker_ids - selected_ids) # insieme di impostori"
      ]
    },
    {
      "cell_type": "code",
      "execution_count": 68,
      "metadata": {
        "colab": {
          "base_uri": "https://localhost:8080/"
        },
        "id": "1QzHDXEQKNEK",
        "outputId": "9aa18e5a-6f55-46d5-e4fa-68933f6b4075"
      },
      "outputs": [
        {
          "name": "stdout",
          "output_type": "stream",
          "text": [
            "331\n",
            "10\n",
            "321\n"
          ]
        }
      ],
      "source": [
        "print(len(all_speaker_ids))\n",
        "print(len(selected_ids))\n",
        "print(len(impostor_ids))"
      ]
    },
    {
      "cell_type": "code",
      "execution_count": 69,
      "metadata": {
        "colab": {
          "base_uri": "https://localhost:8080/"
        },
        "id": "uiN2LNZ8KOKK",
        "outputId": "403567a2-febd-4976-ca2a-872fb9091cfd"
      },
      "outputs": [
        {
          "name": "stdout",
          "output_type": "stream",
          "text": [
            "Extracted 100 audio files from 10 impostor speakers.\n"
          ]
        }
      ],
      "source": [
        "import random\n",
        "\n",
        "num_impostors = 10\n",
        "files_per_impostor = 10\n",
        "\n",
        "unauthorized_audio_paths = []\n",
        "unauthorized_speaker_labels = []\n",
        "\n",
        "for spk_id in random.sample(impostor_ids, min(num_impostors, len(impostor_ids))):\n",
        "    paths = speakers[spk_id]['audio_paths']\n",
        "    if paths:\n",
        "        selected = paths[:files_per_impostor]\n",
        "        unauthorized_audio_paths.extend(selected)\n",
        "        unauthorized_speaker_labels.extend([spk_id] * len(selected))\n",
        "\n",
        "print(f\"Extracted {len(unauthorized_audio_paths)} audio files from {len(set(unauthorized_speaker_labels))} impostor speakers.\")"
      ]
    },
    {
      "cell_type": "code",
      "execution_count": 70,
      "metadata": {
        "id": "_AYJzz7ZKPrr"
      },
      "outputs": [],
      "source": [
        "speaker_split_data_paths = list(speaker_split_data.values())\n",
        "speaker_split_data_paths = [item for sublist in speaker_split_data_paths for item in sublist]"
      ]
    },
    {
      "cell_type": "code",
      "execution_count": 71,
      "metadata": {
        "id": "MSEU3Ru5KQ6t"
      },
      "outputs": [],
      "source": [
        "import torch\n",
        "import numpy as np\n",
        "from tqdm import tqdm\n",
        "from sklearn.metrics import accuracy_score, f1_score\n",
        "from sklearn.mixture import GaussianMixture\n",
        "from sklearn.metrics import roc_curve\n",
        "import matplotlib.pyplot as plt\n",
        "import librosa\n",
        "import torch.nn as nn\n",
        "import torch.optim as optim"
      ]
    },
    {
      "cell_type": "code",
      "execution_count": 72,
      "metadata": {
        "colab": {
          "base_uri": "https://localhost:8080/"
        },
        "id": "Anj6jSpKKSCl",
        "outputId": "ec88a808-c1c4-48f7-f85d-e1d89d8a6def"
      },
      "outputs": [
        {
          "name": "stdout",
          "output_type": "stream",
          "text": [
            "Loaded best_model_dnn.pth\n"
          ]
        }
      ],
      "source": [
        "model = XVectorDNN(input_dim=X_train.shape[2], num_spkrs=len(speaker_to_index))\n",
        "# Load the best model state from the saved file\n",
        "try:\n",
        "    model.load_state_dict(torch.load(\"best_model_dnn.pth\"))\n",
        "    print(\"Loaded best_model_dnn.pth\")\n",
        "except FileNotFoundError:\n",
        "    print(\"best_model_dnn.pth not found. Ensure you have trained and saved the model.\")\n",
        "    # You might want to handle this error appropriately, perhaps re-train or exit\n",
        "\n",
        "device = torch.device(\"cuda\" if torch.cuda.is_available() else \"cpu\")\n",
        "model.to(device)\n",
        "model.eval() # Set the model to evaluation mode\n",
        "\n",
        "X_train_embs = []\n",
        "X_genuine_embs = []\n",
        "X_impostors_embs = []"
      ]
    },
    {
      "cell_type": "code",
      "execution_count": 73,
      "metadata": {
        "id": "oU0O1FWmKWa0"
      },
      "outputs": [],
      "source": [
        "train_audio_paths = []\n",
        "for speaker_id, data in speaker_split_data.items():\n",
        "    train_audio_paths.extend(data['train'])\n",
        "\n",
        "genuine_audio_paths = []\n",
        "for speaker_id, data in speaker_split_data.items():\n",
        "    genuine_audio_paths.extend(data['test'])"
      ]
    },
    {
      "cell_type": "code",
      "execution_count": 74,
      "metadata": {
        "colab": {
          "base_uri": "https://localhost:8080/"
        },
        "id": "9GWH0iKpKYaa",
        "outputId": "497941d7-e136-4d2d-9c62-f1eda0212b2f"
      },
      "outputs": [
        {
          "name": "stdout",
          "output_type": "stream",
          "text": [
            "1348\n",
            "144\n",
            "100\n"
          ]
        }
      ],
      "source": [
        "print(len(train_audio_paths))\n",
        "print(len(genuine_audio_paths))\n",
        "print(len(unauthorized_audio_paths))"
      ]
    },
    {
      "cell_type": "code",
      "execution_count": 75,
      "metadata": {
        "id": "W6xvjp95KZyx"
      },
      "outputs": [],
      "source": [
        "device = torch.device(\"cuda\" if torch.cuda.is_available() else \"cpu\")\n",
        "model.to(device)\n",
        "\n",
        "# Function to extract embeddings from model\n",
        "def extract_embeddings_dnn(audio_path, model, device, max_frames=1600):\n",
        "    \"\"\"\n",
        "    Extract embeddings from the network\n",
        "    \"\"\"\n",
        "    model.eval() # Set the model to evaluation mode\n",
        "    with torch.no_grad():\n",
        "        features = exctract_embeddings(audio_path, max_frames=max_frames)\n",
        "        features = features.to(device)\n",
        "        _, embs = model(features.unsqueeze(0))\n",
        "    return embs.cpu().numpy()"
      ]
    },
    {
      "cell_type": "code",
      "execution_count": 76,
      "metadata": {
        "colab": {
          "base_uri": "https://localhost:8080/"
        },
        "id": "CVGHRJI7Ka66",
        "outputId": "5e3545fa-43dd-4650-8d67-692d2d29e35a"
      },
      "outputs": [
        {
          "name": "stderr",
          "output_type": "stream",
          "text": [
            "Extracting train embeddings: 100%|██████████| 1348/1348 [00:35<00:00, 37.64it/s]\n",
            "Extracting genuine embeddings: 100%|██████████| 144/144 [00:03<00:00, 41.48it/s]\n",
            "Extracting impostor embeddings: 100%|██████████| 100/100 [00:04<00:00, 24.39it/s]\n"
          ]
        }
      ],
      "source": [
        "for path in tqdm(train_audio_paths, desc=\"Extracting train embeddings\"):\n",
        "  embedding = extract_embeddings_dnn(path, model, device)\n",
        "  X_train_embs.append(embedding)\n",
        "\n",
        "for path in tqdm(genuine_audio_paths, desc=\"Extracting genuine embeddings\"):\n",
        "  embedding = extract_embeddings_dnn(path, model, device)\n",
        "  X_genuine_embs.append(embedding)\n",
        "\n",
        "for path in tqdm(unauthorized_audio_paths, desc=\"Extracting impostor embeddings\"):\n",
        "  embedding = extract_embeddings_dnn(path, model, device)\n",
        "  X_impostors_embs.append(embedding)"
      ]
    },
    {
      "cell_type": "code",
      "execution_count": 77,
      "metadata": {
        "colab": {
          "base_uri": "https://localhost:8080/"
        },
        "id": "apnEM2LYKdAU",
        "outputId": "0fcf4fb9-b7a2-49a7-fb5d-934c4f3342ad"
      },
      "outputs": [
        {
          "data": {
            "text/plain": [
              "(1, 512)"
            ]
          },
          "execution_count": 77,
          "metadata": {},
          "output_type": "execute_result"
        }
      ],
      "source": [
        "X_train_embs[0].shape # perfetto (300 è la dimensione corretta)"
      ]
    },
    {
      "cell_type": "code",
      "execution_count": 78,
      "metadata": {
        "colab": {
          "base_uri": "https://localhost:8080/"
        },
        "id": "0KgJY2TYKdzj",
        "outputId": "29c86e29-693d-4534-eaef-685a00d7cdde"
      },
      "outputs": [
        {
          "name": "stdout",
          "output_type": "stream",
          "text": [
            "(1348, 1, 512)\n",
            "(144, 1, 512)\n",
            "(100, 1, 512)\n"
          ]
        }
      ],
      "source": [
        "X_train_embs = np.array(X_train_embs)\n",
        "X_genuine_embs = np.array(X_genuine_embs)\n",
        "X_impostors_embs = np.array(X_impostors_embs)\n",
        "\n",
        "print(X_train_embs.shape)\n",
        "print(X_genuine_embs.shape)\n",
        "print(X_impostors_embs.shape)"
      ]
    },
    {
      "cell_type": "code",
      "execution_count": 79,
      "metadata": {
        "id": "1J9-mop-Kfvh"
      },
      "outputs": [],
      "source": [
        "from sklearn.mixture import GaussianMixture\n",
        "from sklearn.preprocessing import normalize\n",
        "import numpy as np\n",
        "\n",
        "'''\n",
        "usiamo un modello GMM perchè comunque vorremmo capire quanto gli impostori si discostano da quelli reali.\n",
        "'''\n",
        "\n",
        "class PLDABackend:\n",
        "    def __init__(self, n_components=2, covariance_type='full'):\n",
        "        self.gmm = GaussianMixture(n_components=n_components, covariance_type=covariance_type)\n",
        "        self.is_fitted = False\n",
        "\n",
        "    def fit(self, X):\n",
        "        # Optionally normalize embeddings before fitting\n",
        "        X_reshaped = X.reshape(X.shape[0], -1)\n",
        "        X_norm = normalize(X_reshaped)\n",
        "        self.gmm.fit(X_norm)\n",
        "        self.is_fitted = True\n",
        "\n",
        "    def score(self, X):\n",
        "        if not self.is_fitted:\n",
        "            raise RuntimeError(\"Model must be fitted before scoring.\")\n",
        "        X_reshaped = X.reshape(X.shape[0], -1)\n",
        "        X_norm = normalize(X_reshaped)\n",
        "        # Returns log likelihoods of samples under the model\n",
        "        return self.gmm.score_samples(X_norm)\n",
        "\n",
        "    def score_pair(self, X1, X2):\n",
        "        # Score pairs by difference in likelihoods or some heuristic,\n",
        "        # but generally scoring pairs in this GMM setup isn't trivial.\n",
        "        # Instead, you score embeddings independently and compare scores.\n",
        "        scores1 = self.score(X1)\n",
        "        scores2 = self.score(X2)\n",
        "        # Example: similarity could be difference or average of scores,\n",
        "        # but typically you'd score enrollment and test separately.\n",
        "        return scores1, scores2"
      ]
    },
    {
      "cell_type": "code",
      "execution_count": 80,
      "metadata": {
        "id": "q0i4IQu6KhEk"
      },
      "outputs": [],
      "source": [
        "backend = PLDABackend()\n",
        "backend.fit(X_train_embs)  # Fit only X_train samples\n",
        "\n",
        "genuine_scores = backend.score(X_genuine_embs) # compute on test and impostor\n",
        "impostor_scores = backend.score(X_impostors_embs)"
      ]
    },
    {
      "cell_type": "code",
      "execution_count": 81,
      "metadata": {
        "colab": {
          "base_uri": "https://localhost:8080/"
        },
        "id": "Mkon3wF8KiTt",
        "outputId": "9582740f-5500-444e-85fd-2b24c274704b"
      },
      "outputs": [
        {
          "name": "stdout",
          "output_type": "stream",
          "text": [
            "EER: 0.4800\n",
            "Threshold at EER: 3036.2134\n"
          ]
        }
      ],
      "source": [
        "# Compute EER and threshold as you already do\n",
        "from sklearn.metrics import roc_curve\n",
        "\n",
        "y_true = np.concatenate([np.ones(len(genuine_scores)), np.zeros(len(impostor_scores))])\n",
        "y_scores = np.concatenate([genuine_scores, impostor_scores])\n",
        "\n",
        "fpr, tpr, thresholds = roc_curve(y_true, y_scores)\n",
        "fnr = 1 - tpr\n",
        "eer_idx = np.nanargmin(np.abs(fnr - fpr))\n",
        "eer = fpr[eer_idx]\n",
        "eer_threshold = thresholds[eer_idx]\n",
        "\n",
        "print(f\"EER: {eer:.4f}\")\n",
        "print(f\"Threshold at EER: {eer_threshold:.4f}\")"
      ]
    },
    {
      "cell_type": "code",
      "execution_count": 82,
      "metadata": {
        "colab": {
          "base_uri": "https://localhost:8080/",
          "height": 564
        },
        "id": "S6sDINwjKjQy",
        "outputId": "ef7cfee7-71e8-453d-a7ef-6cab8c2da619"
      },
      "outputs": [
        {
          "data": {
            "image/png": "[encoded data removed]",
            "text/plain": [
              "<Figure size 1000x600 with 1 Axes>"
            ]
          },
          "metadata": {},
          "output_type": "display_data"
        }
      ],
      "source": [
        "import matplotlib.pyplot as plt\n",
        "\n",
        "plt.figure(figsize=(10, 6))\n",
        "plt.hist(genuine_scores, bins=50, alpha=0.6, label=\"Genuine Users\")\n",
        "plt.hist(impostor_scores, bins=50, alpha=0.6, label=\"Impostors\")\n",
        "plt.axvline(eer_threshold, color=\"red\", linestyle=\"--\", label=f\"EER Threshold ({eer_threshold:.2f})\")\n",
        "plt.xlabel(\"PLDA\")\n",
        "plt.ylabel(\"Frequency\")\n",
        "plt.title(\"Genuine vs Impostor PLDA Confidence\")\n",
        "plt.legend()\n",
        "plt.show()"
      ]
    }
  ],
  "metadata": {
    "accelerator": "GPU",
    "colab": {
      "gpuType": "T4",
      "provenance": []
    },
    "kernelspec": {
      "display_name": "Python 3",
      "name": "python3"
    },
    "language_info": {
      "name": "python"
    }
  },
  "nbformat": 4,
  "nbformat_minor": 0
}
